{
  "nbformat": 4,
  "nbformat_minor": 0,
  "metadata": {
    "colab": {
      "name": "Feature Eningeering.ipynb",
      "private_outputs": true,
      "provenance": [],
      "mount_file_id": "14RvtBUvj12FaVrSzld3aXV47OZEcP2KN",
      "authorship_tag": "ABX9TyMxMg06SCRfiPFxbXAQ6VZM",
      "include_colab_link": true
    },
    "kernelspec": {
      "name": "python3",
      "display_name": "Python 3"
    },
    "language_info": {
      "name": "python"
    }
  },
  "cells": [
    {
      "cell_type": "markdown",
      "metadata": {
        "id": "view-in-github",
        "colab_type": "text"
      },
      "source": [
        "<a href=\"https://colab.research.google.com/github/MalikHasnat1999/Data-Analysis/blob/master/Feature_Eningeering.ipynb\" target=\"_parent\"><img src=\"https://colab.research.google.com/assets/colab-badge.svg\" alt=\"Open In Colab\"/></a>"
      ]
    },
    {
      "cell_type": "code",
      "execution_count": null,
      "metadata": {
        "id": "_UDH9moJdJx2"
      },
      "outputs": [],
      "source": [
        "import numpy as np\n",
        "import pandas as pd\n",
        "import matplotlib.pyplot as plt\n",
        "import seaborn as sns\n",
        "import tensorflow as tf\n",
        "from sklearn import linear_model"
      ]
    },
    {
      "cell_type": "markdown",
      "source": [
        "# Connect to Kaggle"
      ],
      "metadata": {
        "id": "xKROVQVi1MgO"
      }
    },
    {
      "cell_type": "code",
      "source": [
        "! pip install -q kaggle"
      ],
      "metadata": {
        "id": "hU4YLreY1Q5i"
      },
      "execution_count": null,
      "outputs": []
    },
    {
      "cell_type": "code",
      "source": [
        "# choose the kaggle.json file that you downloaded\n",
        "from google.colab import files\n",
        "files.upload()"
      ],
      "metadata": {
        "id": "yAZO0BLq1Q2p"
      },
      "execution_count": null,
      "outputs": []
    },
    {
      "cell_type": "code",
      "source": [
        "# Run this cell if you can't find the kaggle folder\n",
        "! mkdir ~/.kaggle/    # make a kaggle folder in root directory"
      ],
      "metadata": {
        "id": "NKvWKbpc1Qq7"
      },
      "execution_count": null,
      "outputs": []
    },
    {
      "cell_type": "code",
      "source": [
        "# copy kaggle.json file to the kaggle folder in the root directory\n",
        "!cp kaggle.json ~/.kaggle/"
      ],
      "metadata": {
        "id": "pN9Q6aKs1Qkv"
      },
      "execution_count": null,
      "outputs": []
    },
    {
      "cell_type": "code",
      "source": [
        "# Change the permissions of the file.\n",
        "!chmod 600 ~/.kaggle/kaggle.json"
      ],
      "metadata": {
        "id": "Fw6nx_pF1Qhp"
      },
      "execution_count": null,
      "outputs": []
    },
    {
      "cell_type": "code",
      "source": [
        "# That's all ! You can check if everything's okay by running this command\n",
        "!kaggle datasets list "
      ],
      "metadata": {
        "id": "rZKM_0tI1QdI"
      },
      "execution_count": null,
      "outputs": []
    },
    {
      "cell_type": "markdown",
      "source": [
        "# Mount Google Drive"
      ],
      "metadata": {
        "id": "uX3VlVQZx0Lg"
      }
    },
    {
      "cell_type": "code",
      "source": [
        "from google.colab import drive\n",
        "drive.mount('/content/drive')"
      ],
      "metadata": {
        "id": "5Ti7fcpExHsO"
      },
      "execution_count": null,
      "outputs": []
    },
    {
      "cell_type": "markdown",
      "source": [
        "# Feature Engineering\n",
        "Feature engineering is the process of using domain knowledge to extract features from raw data. The motivation is to use these extra features to improve the quality of results from a machine learning process. 50%-60% of entire data science project\n",
        "\n",
        "1). EDA(Exploratory Data Analysis). It may include:\n",
        "* Finding Numerical Features \n",
        "* Finding Categorical Features\n",
        "* Cleaning \n",
        "\n",
        "2). Handling Missing Values\n",
        "* Mean, Median and Mode\n",
        "\n",
        "3). Handling Imbalance Data\n",
        "\n",
        "4). Treating the Outliers\n",
        "\n",
        "5). Feature Scaling\n",
        "* Standardization and Normalization\n",
        "\n",
        "6). Categorical Features to Numerical Features\n",
        "* One-hot encode"
      ],
      "metadata": {
        "id": "_l9yrcoxGnzc"
      }
    },
    {
      "cell_type": "markdown",
      "source": [
        "## 1). EDA"
      ],
      "metadata": {
        "id": "6p9BsMGfm2Ys"
      }
    },
    {
      "cell_type": "code",
      "source": [
        "!kaggle competitions download -c titanic"
      ],
      "metadata": {
        "id": "dP2i2S_y7L19"
      },
      "execution_count": null,
      "outputs": []
    },
    {
      "cell_type": "code",
      "source": [
        "!unzip /content/titanic.zip"
      ],
      "metadata": {
        "id": "RwfhwYY1mCRB"
      },
      "execution_count": null,
      "outputs": []
    },
    {
      "cell_type": "code",
      "source": [
        "train =  pd.read_csv(\"train.csv\")"
      ],
      "metadata": {
        "id": "4QtodJxvbkeJ"
      },
      "execution_count": null,
      "outputs": []
    },
    {
      "cell_type": "code",
      "source": [
        "train.head()"
      ],
      "metadata": {
        "id": "Fc0f6zsW9ssE"
      },
      "execution_count": null,
      "outputs": []
    },
    {
      "cell_type": "markdown",
      "source": [
        "Missing Data"
      ],
      "metadata": {
        "id": "Zsjz7yamScMo"
      }
    },
    {
      "cell_type": "code",
      "source": [
        "train.isnull() "
      ],
      "metadata": {
        "id": "eLpgeEFK9x4S"
      },
      "execution_count": null,
      "outputs": []
    },
    {
      "cell_type": "code",
      "source": [
        "sns.heatmap(train.isnull(), yticklabels=False, cbar=False, cmap='viridis')"
      ],
      "metadata": {
        "id": "QQu5TmgWSk_p"
      },
      "execution_count": null,
      "outputs": []
    },
    {
      "cell_type": "markdown",
      "source": [
        ""
      ],
      "metadata": {
        "id": "YTLfYhU1WBt4"
      }
    },
    {
      "cell_type": "code",
      "source": [
        "sns.set_style('whitegrid')\n",
        "sns.countplot(x='Survived', data=train)"
      ],
      "metadata": {
        "id": "MAqcx_OkUFUp"
      },
      "execution_count": null,
      "outputs": []
    },
    {
      "cell_type": "code",
      "source": [
        "sns.set_style('whitegrid')\n",
        "sns.countplot(x='Survived', hue='Sex',data=train)"
      ],
      "metadata": {
        "id": "l9udAe_eV2ZL"
      },
      "execution_count": null,
      "outputs": []
    },
    {
      "cell_type": "code",
      "source": [
        "sns.set_style('whitegrid')\n",
        "sns.countplot(x='Survived', hue='Pclass',data=train)"
      ],
      "metadata": {
        "id": "TJ4txjOMWnBf"
      },
      "execution_count": null,
      "outputs": []
    },
    {
      "cell_type": "code",
      "source": [
        "sns.distplot(train['Age'].dropna(), kde=False, bins=40)\n",
        "             "
      ],
      "metadata": {
        "id": "fyM68TqybsdI"
      },
      "execution_count": null,
      "outputs": []
    },
    {
      "cell_type": "code",
      "source": [
        "sns.countplot(x='SibSp', data=train)"
      ],
      "metadata": {
        "id": "kNCHQA1jcMyZ"
      },
      "execution_count": null,
      "outputs": []
    },
    {
      "cell_type": "code",
      "source": [
        "train['Fare'].hist(bins=40)"
      ],
      "metadata": {
        "id": "leE7-agXcwV0"
      },
      "execution_count": null,
      "outputs": []
    },
    {
      "cell_type": "markdown",
      "source": [
        "## 2). Handling missing values"
      ],
      "metadata": {
        "id": "MRha6DtoeQZ_"
      }
    },
    {
      "cell_type": "markdown",
      "source": [
        "**Data Cleaning**\n",
        "\n",
        "We want to fill in missing age data instead of just dropping the missing age data rows. One way to do this is by filling in the mean age of all the passengers. However we can be smarter about this and check the average age by passenger class"
      ],
      "metadata": {
        "id": "2z0W0HexdkLb"
      }
    },
    {
      "cell_type": "code",
      "source": [
        "plt.figure(figsize=(12, 7))\n",
        "sns.boxplot(x='Pclass', y='Age', data=train)"
      ],
      "metadata": {
        "id": "9vaBqG1pc81A"
      },
      "execution_count": null,
      "outputs": []
    },
    {
      "cell_type": "code",
      "source": [
        "def impute_age(cols):\n",
        "  Age = cols[0]\n",
        "  Pclass = cols[1]\n",
        "  if pd.isnull(Age):\n",
        "    if Pclass == 1:\n",
        "      return 37\n",
        "    elif Pclass == 2:\n",
        "      return 29\n",
        "    else:\n",
        "      return 24\n",
        "  else:\n",
        "    return Age"
      ],
      "metadata": {
        "id": "dxGB3PgXehmb"
      },
      "execution_count": null,
      "outputs": []
    },
    {
      "cell_type": "code",
      "source": [
        "train['Age'] = train[['Age','Pclass']].apply(impute_age, axis=1)"
      ],
      "metadata": {
        "id": "uY8S2tA6f4Nb"
      },
      "execution_count": null,
      "outputs": []
    },
    {
      "cell_type": "code",
      "source": [
        "sns.heatmap(train.isnull(), yticklabels=False, cmap='viridis')"
      ],
      "metadata": {
        "id": "n2bWXeTYgpvr"
      },
      "execution_count": null,
      "outputs": []
    },
    {
      "cell_type": "markdown",
      "source": [
        "Let's go ahead and drop the Cabin colum and the row in Embarked that is NaN"
      ],
      "metadata": {
        "id": "zHFy3jFohHEW"
      }
    },
    {
      "cell_type": "code",
      "source": [
        "train.drop('Cabin', axis=1, inplace=True)"
      ],
      "metadata": {
        "id": "keM3Pq9tgzsx"
      },
      "execution_count": null,
      "outputs": []
    },
    {
      "cell_type": "code",
      "source": [
        "train.head()"
      ],
      "metadata": {
        "id": "T_Amm7L1hbKY"
      },
      "execution_count": null,
      "outputs": []
    },
    {
      "cell_type": "markdown",
      "source": [
        "## 3). Treating the Outliers\n",
        "\n",
        "In statistics, an outlier is a data point that **differs** significantly from other observations"
      ],
      "metadata": {
        "id": "xYXra0yZxwhB"
      }
    },
    {
      "cell_type": "markdown",
      "source": [
        "### i). Using Percentile"
      ],
      "metadata": {
        "id": "vFMvtd20m8h8"
      }
    },
    {
      "cell_type": "code",
      "source": [
        "!kaggle datasets download -d dgomonov/new-york-city-airbnb-open-data"
      ],
      "metadata": {
        "id": "2CLi1xiy_1Kh"
      },
      "execution_count": null,
      "outputs": []
    },
    {
      "cell_type": "code",
      "source": [
        "!unzip /content/new-york-city-airbnb-open-data.zip"
      ],
      "metadata": {
        "id": "SiDrRr7_5FYP"
      },
      "execution_count": null,
      "outputs": []
    },
    {
      "cell_type": "code",
      "source": [
        "df = pd.read_csv(\"/content/AB_NYC_2019.csv\")\n",
        "df.head()"
      ],
      "metadata": {
        "id": "IvCfTqyj5IaD"
      },
      "execution_count": null,
      "outputs": []
    },
    {
      "cell_type": "code",
      "source": [
        "df.shape"
      ],
      "metadata": {
        "id": "4dIOG_jU_dvO"
      },
      "execution_count": null,
      "outputs": []
    },
    {
      "cell_type": "code",
      "source": [
        "df.price.describe()"
      ],
      "metadata": {
        "id": "91ebVSu86SrY"
      },
      "execution_count": null,
      "outputs": []
    },
    {
      "cell_type": "code",
      "source": [
        "min_threshold, max_threshold = df.price.quantile([0.001,0.999])\n",
        "min_threshold, max_threshold"
      ],
      "metadata": {
        "id": "OkQokcFs6VNL"
      },
      "execution_count": null,
      "outputs": []
    },
    {
      "cell_type": "code",
      "source": [
        "# get data points that has value less then the min_threshold\n",
        "df[df.price < min_threshold]"
      ],
      "metadata": {
        "id": "Rt_qG4iT6kCb"
      },
      "execution_count": null,
      "outputs": []
    },
    {
      "cell_type": "code",
      "source": [
        "len(df[df.price < min_threshold])"
      ],
      "metadata": {
        "id": "i_RL-77T9nR2"
      },
      "execution_count": null,
      "outputs": []
    },
    {
      "cell_type": "code",
      "source": [
        "# get data points that has value greater then the max_threshold\n",
        "df[df.price > max_threshold]"
      ],
      "metadata": {
        "id": "5xM1boBh93HK"
      },
      "execution_count": null,
      "outputs": []
    },
    {
      "cell_type": "code",
      "source": [
        "len(df[df.price > max_threshold])"
      ],
      "metadata": {
        "id": "TJQbqhEq-BBV"
      },
      "execution_count": null,
      "outputs": []
    },
    {
      "cell_type": "code",
      "source": [
        "# get values without outliers\n",
        "df = df[(df.price < max_threshold) & (df.price > min_threshold)]\n",
        "df.shape"
      ],
      "metadata": {
        "id": "gXXmFz-H-FyJ"
      },
      "execution_count": null,
      "outputs": []
    },
    {
      "cell_type": "markdown",
      "source": [
        "### ii). Using Standard Deviation\n",
        "\n"
      ],
      "metadata": {
        "id": "EWgECyu6_-xa"
      }
    },
    {
      "cell_type": "code",
      "source": [
        "! kaggle datasets download -d mustafaali96/weight-height"
      ],
      "metadata": {
        "id": "RCOL9M81_-ic"
      },
      "execution_count": null,
      "outputs": []
    },
    {
      "cell_type": "code",
      "source": [
        "! unzip /content/weight-height.zip"
      ],
      "metadata": {
        "id": "OHuHkgl9-J3w"
      },
      "execution_count": null,
      "outputs": []
    },
    {
      "cell_type": "code",
      "source": [
        "df = pd.read_csv(\"/content/weight-height.csv\")\n",
        "df.head()"
      ],
      "metadata": {
        "id": "fyHyOH4MG3SU"
      },
      "execution_count": null,
      "outputs": []
    },
    {
      "cell_type": "code",
      "source": [
        "df = df.drop(\"Weight\",1)\n",
        "df.head()"
      ],
      "metadata": {
        "id": "HZwB6rf9G_Wu"
      },
      "execution_count": null,
      "outputs": []
    },
    {
      "cell_type": "code",
      "source": [
        "df.describe()"
      ],
      "metadata": {
        "id": "LSlg--l7MU0z"
      },
      "execution_count": null,
      "outputs": []
    },
    {
      "cell_type": "code",
      "source": [
        "plt.hist(df.Height, bins=40)\n",
        "plt.xlabel(\"Height\")\n",
        "plt.ylabel(\"count\")"
      ],
      "metadata": {
        "id": "lVgDmqXVJE-K"
      },
      "execution_count": null,
      "outputs": []
    },
    {
      "cell_type": "markdown",
      "source": [
        "Histogram is a perfect **Bell Curve**"
      ],
      "metadata": {
        "id": "EJRRLmytJdky"
      }
    },
    {
      "cell_type": "code",
      "source": [
        "# find mean\n",
        "df.Height.mean()"
      ],
      "metadata": {
        "id": "JAgS_5DqHGsq"
      },
      "execution_count": null,
      "outputs": []
    },
    {
      "cell_type": "code",
      "source": [
        "# find standard Deviation\n",
        "df.Height.std()"
      ],
      "metadata": {
        "id": "9Ck-O2giHNhs"
      },
      "execution_count": null,
      "outputs": []
    },
    {
      "cell_type": "markdown",
      "source": [
        "we will use 3 standard deviation to remove the outliers (Standard)\n",
        "\n",
        ">mean + 3*std\n",
        "\n",
        ">mean - 3*std"
      ],
      "metadata": {
        "id": "3cV0uKOmMjVk"
      }
    },
    {
      "cell_type": "code",
      "source": [
        "# Maximum Thershold\n",
        "upper_limit = df.Height.mean() + 3*df.Height.std()\n",
        "upper_limit"
      ],
      "metadata": {
        "id": "tkUVVA4PJOhd"
      },
      "execution_count": null,
      "outputs": []
    },
    {
      "cell_type": "code",
      "source": [
        "# Minimum Threshold\n",
        "lower_limit = df.Height.mean() - 3*df.Height.std()\n",
        "lower_limit"
      ],
      "metadata": {
        "id": "VJ6Z_RVvNRak"
      },
      "execution_count": null,
      "outputs": []
    },
    {
      "cell_type": "code",
      "source": [
        "# check outliers\n",
        "df[(df.Height > upper_limit) | (df.Height < lower_limit)]"
      ],
      "metadata": {
        "id": "JZPTPPWpNciu"
      },
      "execution_count": null,
      "outputs": []
    },
    {
      "cell_type": "code",
      "source": [
        "# removing the outliers\n",
        "df = df[((df.Height < upper_limit) & (df.Height > lower_limit))]\n",
        "df.shape"
      ],
      "metadata": {
        "id": "7JrwkO5ONxco"
      },
      "execution_count": null,
      "outputs": []
    },
    {
      "cell_type": "markdown",
      "source": [
        "### iii). Using Z-score\n",
        "\n",
        "z-score is a way to achieve same thing that we did in standard deviation.\n",
        "\n",
        "z-score indicated how many standard deviation away a data point is/\n",
        "\n",
        ">Z = (x - mean) / std"
      ],
      "metadata": {
        "id": "SAknzcduOsGN"
      }
    },
    {
      "cell_type": "code",
      "source": [
        "! kaggle datasets download -d mustafaali96/weight-height"
      ],
      "metadata": {
        "id": "Cv3AqDL4Onaz"
      },
      "execution_count": null,
      "outputs": []
    },
    {
      "cell_type": "code",
      "source": [
        "! unzip /content/weight-height.zip"
      ],
      "metadata": {
        "id": "aTuLraZFPrco"
      },
      "execution_count": null,
      "outputs": []
    },
    {
      "cell_type": "code",
      "source": [
        "df = pd.read_csv(\"/content/weight-height.csv\")\n",
        "df.head()"
      ],
      "metadata": {
        "id": "hSrZUsqcPt5m"
      },
      "execution_count": null,
      "outputs": []
    },
    {
      "cell_type": "code",
      "source": [
        "df = df.drop(\"Weight\", 1)\n",
        "df.head()"
      ],
      "metadata": {
        "id": "9m1fU4sRPuwu"
      },
      "execution_count": null,
      "outputs": []
    },
    {
      "cell_type": "code",
      "source": [
        "df[\"z_score\"] = (df.Height - df.Height.mean()) / df.Height.std()\n",
        "df.head()"
      ],
      "metadata": {
        "id": "tJWE2gRdP0Fi"
      },
      "execution_count": null,
      "outputs": []
    },
    {
      "cell_type": "markdown",
      "source": [
        "Filter out those rows that has z-score greater than 3 standard deviation"
      ],
      "metadata": {
        "id": "xpDuS3q1RM_Y"
      }
    },
    {
      "cell_type": "code",
      "source": [
        "# Check outliers\n",
        "df[(df.z_score < -3) | (df.z_score > 3)]"
      ],
      "metadata": {
        "id": "_dNYm8UAQ7Qv"
      },
      "execution_count": null,
      "outputs": []
    },
    {
      "cell_type": "code",
      "source": [
        "# remove the outliers\n",
        "df = df[(df.z_score > -3) & (df.z_score < 3)]\n",
        "df.shape"
      ],
      "metadata": {
        "id": "1bNoptrxoZfw"
      },
      "execution_count": null,
      "outputs": []
    },
    {
      "cell_type": "markdown",
      "source": [
        "### iv). Using IQR"
      ],
      "metadata": {
        "id": "4o4pHyGmpHJR"
      }
    },
    {
      "cell_type": "code",
      "source": [
        "df = pd.read_csv(\"/content/weight-height.csv\")\n",
        "df.head()"
      ],
      "metadata": {
        "id": "L57Fm9V9pEfV"
      },
      "execution_count": null,
      "outputs": []
    },
    {
      "cell_type": "code",
      "source": [
        "df = df.drop(\"Weight\", 1)\n",
        "df.head()"
      ],
      "metadata": {
        "id": "xVJY_sFIqeoP"
      },
      "execution_count": null,
      "outputs": []
    },
    {
      "cell_type": "code",
      "source": [
        "Q1 = df.Height.quantile(0.25)\n",
        "Q3 = df.Height.quantile(0.75)\n",
        "Q1, Q3"
      ],
      "metadata": {
        "id": "-QNt803Nqlx_"
      },
      "execution_count": null,
      "outputs": []
    },
    {
      "cell_type": "code",
      "source": [
        "IQR = Q3 - Q1\n",
        "IQR"
      ],
      "metadata": {
        "id": "IJkPzMcwrBug"
      },
      "execution_count": null,
      "outputs": []
    },
    {
      "cell_type": "markdown",
      "source": [
        "Formula for lower and upper limit\n",
        "> lower_limit = Q1 - 1.5*IQR\n",
        "\n",
        "> upper_limit = Q3 + 1.5*IQR"
      ],
      "metadata": {
        "id": "Yj-VRFyLrMoo"
      }
    },
    {
      "cell_type": "code",
      "source": [
        "lower_limit = Q1 - 1.5*IQR\n",
        "upper_limit = Q3 + 1.5*IQR\n",
        "lower_limit, upper_limit"
      ],
      "metadata": {
        "id": "ERKAFP0brHtA"
      },
      "execution_count": null,
      "outputs": []
    },
    {
      "cell_type": "code",
      "source": [
        "# check the outliers\n",
        "df[(df.Height < lower_limit) | (df.Height > upper_limit)]"
      ],
      "metadata": {
        "id": "PcRJJK_xrrnx"
      },
      "execution_count": null,
      "outputs": []
    },
    {
      "cell_type": "code",
      "source": [
        "# Remove the outliers\n",
        "df = df[(df.Height > lower_limit) & (df.Height < upper_limit)]\n",
        "df.shape"
      ],
      "metadata": {
        "id": "ZZHpKQQUr_s7"
      },
      "execution_count": null,
      "outputs": []
    },
    {
      "cell_type": "markdown",
      "source": [
        "## 4). Feature Scaling\n",
        "\n",
        "Feature scaling is a method used to normalize the range of independent variables or features of data.\n",
        "\n",
        "In data processing, it is also known as data normalization and is generally performed during the data preprocessing step"
      ],
      "metadata": {
        "id": "rLVnhRqx7A62"
      }
    },
    {
      "cell_type": "markdown",
      "source": [
        "### i). Standardization\n",
        "\n",
        "Also known as z-score Normalization"
      ],
      "metadata": {
        "id": "YfLHB6PyNhC0"
      }
    },
    {
      "cell_type": "markdown",
      "source": [
        "#### *Using StandardScaler\n",
        "> Xi` = (Xi - mean) / S.D\n",
        "\n",
        "\n",
        "New series has characterstics:\n",
        "* Mean = 0\n",
        "* S.D = 1\n",
        "\n",
        "Also known as **Mean Centring**\n",
        "\n",
        "![raw_mean_centered.png](data:image/png;base64,iVBORw0KGgoAAAANSUhEUgAAAvsAAAFdCAYAAACdLKIgAAAEDWlDQ1BJQ0MgUHJvZmlsZQAAOI2NVV1oHFUUPrtzZyMkzlNsNIV0qD8NJQ2TVjShtLp/3d02bpZJNtoi6GT27s6Yyc44M7v9oU9FUHwx6psUxL+3gCAo9Q/bPrQvlQol2tQgKD60+INQ6Ium65k7M5lpurHeZe58853vnnvuuWfvBei5qliWkRQBFpquLRcy4nOHj4g9K5CEh6AXBqFXUR0rXalMAjZPC3e1W99Dwntf2dXd/p+tt0YdFSBxH2Kz5qgLiI8B8KdVy3YBevqRHz/qWh72Yui3MUDEL3q44WPXw3M+fo1pZuQs4tOIBVVTaoiXEI/MxfhGDPsxsNZfoE1q66ro5aJim3XdoLFw72H+n23BaIXzbcOnz5mfPoTvYVz7KzUl5+FRxEuqkp9G/Ajia219thzg25abkRE/BpDc3pqvphHvRFys2weqvp+krbWKIX7nhDbzLOItiM8358pTwdirqpPFnMF2xLc1WvLyOwTAibpbmvHHcvttU57y5+XqNZrLe3lE/Pq8eUj2fXKfOe3pfOjzhJYtB/yll5SDFcSDiH+hRkH25+L+sdxKEAMZahrlSX8ukqMOWy/jXW2m6M9LDBc31B9LFuv6gVKg/0Szi3KAr1kGq1GMjU/aLbnq6/lRxc4XfJ98hTargX++DbMJBSiYMIe9Ck1YAxFkKEAG3xbYaKmDDgYyFK0UGYpfoWYXG+fAPPI6tJnNwb7ClP7IyF+D+bjOtCpkhz6CFrIa/I6sFtNl8auFXGMTP34sNwI/JhkgEtmDz14ySfaRcTIBInmKPE32kxyyE2Tv+thKbEVePDfW/byMM1Kmm0XdObS7oGD/MypMXFPXrCwOtoYjyyn7BV29/MZfsVzpLDdRtuIZnbpXzvlf+ev8MvYr/Gqk4H/kV/G3csdazLuyTMPsbFhzd1UabQbjFvDRmcWJxR3zcfHkVw9GfpbJmeev9F08WW8uDkaslwX6avlWGU6NRKz0g/SHtCy9J30o/ca9zX3Kfc19zn3BXQKRO8ud477hLnAfc1/G9mrzGlrfexZ5GLdn6ZZrrEohI2wVHhZywjbhUWEy8icMCGNCUdiBlq3r+xafL549HQ5jH+an+1y+LlYBifuxAvRN/lVVVOlwlCkdVm9NOL5BE4wkQ2SMlDZU97hX86EilU/lUmkQUztTE6mx1EEPh7OmdqBtAvv8HdWpbrJS6tJj3n0CWdM6busNzRV3S9KTYhqvNiqWmuroiKgYhshMjmhTh9ptWhsF7970j/SbMrsPE1suR5z7DMC+P/Hs+y7ijrQAlhyAgccjbhjPygfeBTjzhNqy28EdkUh8C+DU9+z2v/oyeH791OncxHOs5y2AtTc7nb/f73TWPkD/qwBnjX8BoJ98VVBg/m8AAEAASURBVHgB7J0HuNREF4YP0hFFikqTroKKHQREiiJVEQUsqIBiASmKDVFBQMGCiohdf3svWFC6iIIoFkBAwYJ0EUGaCKjA/udLyN7svUm23C3J3u88z95NZiaTmTd7k5OZM+cUCqkIhQRIgARIgARIgARIgARIIOsI7Jd1PWKHSIAESIAESIAESIAESIAEDAJU9vlDIAESIAESIAESIAESIIEsJUBlP0svLLtFAiRAAiRAAiRAAiRAAlT2+RsgARIgARIgARIgARIggSwlQGU/Sy8su0UCJEACJEACJEACJEACVPb5GyABEiABEiABEiABEiCBLCVAZT9LLyy7RQIkQAIkQAIkQAIkQAJU9vkbIAESIAESIAESIAESIIEsJUBlP0svLLtFAiRAAiRAAiRAAiRAAlT2+RsgARIgARIgARIgARIggSwlQGU/Sy8su0UCJEACJEACJEACJEACVPb5GyABEiABEiABEiABEiCBLCVAZT9LLyy7RQIkQAIkQAIkQAIkQAJU9vkbIAESIAESIAESIAESIIEsJUBlP0svLLtFAiRAAiRAAiRAAiRAAlT2+RsgARIgARIgARIgARIggSwlQGU/Sy8su0UCJEACJEACJEACJEACVPb5GyABEiABEiABEiABEiCBLCVAZT9LLyy7RQIkQAIkQAIkQAIkQAJU9vkbIAESIAESIAESIAESIIEsJUBlP0svLLtFAiRAAiRAAiRAAiRAAlT2+RsgARIgARIgARIgARIggSwlQGU/Sy8su0UCJEACJEACJEACJEACVPb5GyABEiABEiABEiABEiCBLCVAZT9LLyy7RQIkQAIkQAIkQAIkQAJU9vkbIAESIAESIAESIAESIIEsJUBlP0svLLtFAiRAAiRAAiRAAiRAAlT2+RsgARIgARIgARIgARIggSwlQGU/Sy8su0UCJEACJEACJEACJEACVPb5GyABEiABEiABEiABEiCBLCVAZT9LLyy7RQIkQAIkQAIkQAIkQAJU9vkbIAESIAESIAESIAESIIEsJVAkS/vFbmUBgc2bN0vnzp3z9KRQoUJSsmRJKVOmjBx77LFy1VVXSdmyZfOUy0TChg0b5IILLshz6mLFislBBx0kJ598slxzzTVSqlSpPGXiTVi+fLmUK1fO4BDvsSxPAiSQfQTuvvtumTZtWrhj7du3lxtvvDG8j417771XpkyZEk5r3bq13HLLLeF9v2/gHnv//ffLvHnzZOHChbL//vtLvXr15Pzzz5cePXqktfl79+6VxYsXG8+htJ44xpOtX79eLrroIqN09+7dpWfPnq5HgunEiRMj8vfbbz/jWXXYYYfJJZdcIo0bN47IT2TH78wS6VMgjglRSMCnBH7//feQ/hNF/Rx++OGhpUuX+qIXq1evjtre6tWrhyZPnpxwe7dv3x667bbbQiVKlAj9/PPPCdfDA0mABLKLgCpkEfefunXr5ukg7pf2++qll16ap4xfEyZMmBA65JBDItpv70vz5s1Df//9d1qa//nnn4dOOumk0MUXX5yW8yVykhUrVoRZDRkyxLOKXr16hcvamVrbOsgWQplt27Z51uOVGQRmXu0Pch5H9vWXTPE/gVq1akm7du2MhmJk4N9//5UPP/xQMHKhCq8xeqUPAl91pE6dOtKmTRvZvXu36ANIvvjiC1m2bJmsXLnSmLHQFxSpWrVq3G3GCMzIkSPjPo4HkAAJFCwCuMesWbMmfJ9ZtWqVcb8MIgWMoHfq1En27NkjmN3FSL4q2/Ltt9/KRx99JDoIIp9++qk8+OCDcvvtt6e8i6eeeqpxDn2hSvm50n0CzAZgthzP2d9++02mTp1qPMf+97//GTMpY8eOTahJ2cwsISBpPIjKfhph81SJEzjuuOPkkUceiajgr7/+Mh5iOtIgn3zyiXFjgrmMXVBm3bp1UrRoUalYsaJh/mPPT+X2iSeeGNFmPKSGDh0qo0aNMpR/TK+//vrrEU1AGbzAoE+42R566KER+bHsJKOOWM7DMiRAAv4kANMWHYWUHTt2yPTp08PmGx9//LHRYHu+Ww9wD9q6davAhMNLErnHom148ahUqZLkvme7nevaa681FH3kv/POO3LuueeGi/70009Sv3594xkAM6Urr7wyz70z1v6EK9UNHIOBGrQzEYn3nPYXM/v54qkHZk6FCxc2TDztdcSzrbMAhmmUdQwGqZo1a2Yo/o899pjB95hjjrGyje9EfgcRFegOn125iSRxP8jTEmx7dhOwm/Hojd2xs2oDH5561JtcuMySJUtCOooQztN/mZA+VEJq0xnauXOnUe7MM88M6UMv1KJFi/Bx2Khdu7aRfsQRR0Skq72ikX7GGWdEpNt37GY8OvJkzzK2//vvv5CO+BvtwrSo1RZkjhgxIqR2/RFtrlGjRkgf0OF6zjvvvJC+uITL6NqFkL7EhPNjqSNcmBskQAJZRcAy48F9pFWrVsZ9wm5mgm3cC9VOP3TggQca27nNeObMmRNSxTmE+xPKoi5VtEO7du2KYBXLPRYHqKJo3Ddxr4UZjg54hMqXL2/UjXuy2pGHYJroJd99951RHu3R2VLHoqqEhu66666Qju5HtDXW/sBEBW1s0qRJCH1r2LBhSG3WjfPC9FJHt43zfvPNN0Y5tAWfIkWKGPvjxo0LtyuWc6IMzoePzlKH8LxBffpyFfrzzz+NumKpxzrpjBkzIp4taD/abLUzHjOeH374wao2/P3cc8+F6xo8eHA4PZbfQSzM+OwKI03JBt7+KSTgSwJeyr6axoTGjx9v3GhxM4NSbImODhg3ausmV7ly5fBNG2m6UMkoOnr0aOPmpaMg4ZsrblzWcfjGgwqiU5nh9Pvuu89Ic/oTTdnHMd26dQvX9f333xvV4CFonVcX74Z04W14H8q9tSZBF9yF063yeGhDYq3DKMw/JEACWUfAruyrqZ9xr7APBmAb9w1dyOuo7ENhxP3QureoE4TwNuzhLYn1Hovyv/zyS7gOS6E9+OCDI+7JN998s1W14/cbb7wRrkPNdBzLOCXG2h8ca7FD23RW1RhUsd+HcV/GgNJXX30VbovFCd9Wu2I95+zZs8P16AxueBsDWJBY60FZvBRYLyZoi/UiV7x48XC9+VX2dfYkXFfXrl1x2lCsv4NozPjsMnCm9A9db+p/BsX/BGCfD88z+BxwwAGiNzHRUW7DjlBHVuShhx4Kd0JvooIpRZju6A1T1q5dK/DsU61aNaMMTH4g1jQwpg5hkwixprmNHf1jlbV7KcB58yP2aXFMj0L0YWb0DZ4xtmzZIhs3bhTLLlJnA0QXNhnlnn76aenfv7+xjT/wvDF//nxjP9Y6wgdzgwRIIGsJ6Iyl0TcdNDE8xujAgmAbYuUZO/v+4D44YMAAw5QCJo86Gmvch6x7K+zhVSkzSsd6j7XXj+1ff/3VsK//448/REfrw2aV9vtr7mOwj3VZltjvn1aa03c8/bEfDzOYU045RfCNj+XhByZRYAAPcPb2dOzY0di/7LLLDHaxMrSfE6ab4Pz+++/LnXfeGXc9gwYNEqxlg8DMBu3WFwDRWWr7afK1bV9fZj23Yv0deDFDo/jsytelielgKvsxYWKhTBOAwguFHR8sxMKNHK43L7zwQkMRPuecc8JNhG2hTkMatpYtW7Y07DgXLVokFSpUMMpAmYbgRgg7T8ikSZOMb9i3QnRq1fi2lH0sAINg7UB+b6DqRceoC3+strz00kuiU7fGomO8pGCdAfpsiVVOZylEp8CtZNEZDcHiZUisdYQP5gYJkEDWEmjQoEH4Pob7mjWQgcESuADOLVBgsQgWoiO3xuJXDKT07ds3fO98+eWXjfxY77FGYdufLl26CNyBQmDzjXVNECinXmLd/1AG9uixSDz9yV0fFG88X+B6Ukf8w9loJwaa4HzBEvDEPlwrJ3rODh06CNYk4MWhbdu2cdWDRbTWYJDOnEifPn2MdRBwk4k1YskSrK0AD4h1PWL9HXgxQ318doFCaoULdFPLl7UniUDTpk0NX9C4mWKBq/VwgLKvtol5zoLRfDyYMGI0d+5c+eeff8JldK4svI3RfbwIqCtMY5Zg5syZRh5uvDgPlH3cTK2XgPyO6qNyLMKyxP7igFEzjOxglkHNgawixre9zREZuXaSUUeuKrlLAiQQQAIYNID3E9xPcP+yFDWkQYnPLbi3WoIFsJgVtUTXFhmb9vtSrPdYqw58Y3DCLmpuYuza78/2fGtb3YVam8Yi0fCObQP3SHjpsSTe/ljH4dveTquNSI/WzkTPiRczu8RTD7y7WaP68P5ml6OPPtq+m69tDEBZ57E/txL5HTg1hM8uJyrJS8v7H5+8ulkTCSSNgNpRCkY/ILqw1lDw4SkCyjqmADESZQlGp3RxmuHVBqMR2MYxUPxh9mI99FAex+vCIMG0MkxkMGKBUX21IZUHHnjAeLA888wzhlkQyidD2bemQFGfNUKE0TNMv0IwUo+XDYzSIB1ib7OR4PAnGXU4VMskEiCBgBKAuQ6UfZifWPcQzHY6iaXQIw9B/0qXLh0uZnlesbzSxHOPDVeiG/ZZTaTHOkp/5JFHhquBeZGTDB8+3DARwj1dF9tKPP2x14cXBoxEWxJrG1E+0XNiVsAu8dRjf8HJHazRGoG3153ottNzK9HfQe428NmVm0jy96nsJ58pa0wxAYxWwNc8ItFiNAdu1tSDglSpUsU4M2zdYQOJGzbsVK1RCGvU3nroofDxxx9vjOKsWLFChg0bZhx/2mmnGVO4GAHD6BYeIhAo39ZDz0hI4M/XX39tPHhxKGYkNECMsabAUvSvuOIK46UD+QsWLMCXIfY2W2n4tkb8MbqSaB32+rhNAiSQPQQs23yYPlpipVn71nfNmjWtTTnrrLNkzJgx4X3cT+1ugOO5x4Yr0Q27YmpPj7YNsyPc33Gfe/XVVwWuIS3zRRy7adMm474Jn/C4b6qHH4mnP9HO75Vv3YNRJtFzYlDKLvHUg1kIzNQgnotlhmXVZY+UbKUl+q0OLcKHnn322cZ2or8DOzM+u8JYU7pBm/2U4mXlqSIAu0SM1kMwwo99S+BzGYIRGfiqh2BUwrK/h99ku2AkCILRfQhmAuzfVnq8o/q4ib333nvy7rvvyvPPPy/qrkywABc3OijvlnJutRfntNvjY0bBEvvDGtPzlsAkCIvu4q3DOp7fJEAC2UvAbrePXsIkBYGonAQDH5YTA8T/UM9kRjEMeGDBLkafc9+zYr3HOp0vnjTMtmKABwKzStij4/6IgFpIx2APFH0I1gVgbVM8/TEOjPOPdR/GedUtqfHCkeg5c88exFMPFP3TTz/daD3MUd98801jG887a41FnF0zzL7w7EJduOaYDbLWrWF9nBXg0nruxPo7cGJm1YE2xvL8i7cvLL+PgCoeFBLwJQEv15tosNoqhl2M6c85pHamRj/gxxn7+CC0Ovzi600m7Dca6brQN9znzz77LFweeerdxsjTUfiIdLgPiyZ215tWG3J/q6Jv+Jq26tJRqZDl4k5HvkK66CkEv844Dvv4hp9rS/RBHG4X8lGfjrzFVYdVF79JgASyh4DlPhK+8S2BX3rrHgTXvZZY7hntfvZ11DzC9Wa9evXCLh2xrQMlxuHx3GPtrjd1ltQ6vfGtMwhG2+ztjSiQa0fNPcJ9sfpk/9ZZ34h7e6z9wWksdrin2gU+4q1z6MLdcJZGzg2n4xiN2mvkxXpOu+vNJ598MlyvtRFrPSiPZ5Yq/eH2WM8TuFpFLAO0Px7Xm1Z/c3/rLEJIZ8GtJhrPMatMLM9aJ2bxPv/CJ+dGXAQwykghAV8SiKbso9FqZx++wek0b0hH+Y2AKnZf9jrqEEIwGV38Gi77yiuvhPusnn1C8K2Mm5Z67AnpIiQjD+mWn2UEOrHSwwc6bLgp+2r/GjrqqKNCnTt3Ds2bNy/PkTrdGkI8AOvGqW7OjPbiRQVpukAtfAweuHghsMqqN4iQLp4KxVNHuDJukAAJZA0BS2G1K8/wqW/dKxBbxBInZR95uq7JCPBkDTQgAJY6QghZMUFQBgG2Yr3HJlPZx7kRgEpdOUYot/CBP3DgQMMPPsrYJZb+oLzFLlZlX0e9QwhqCLY45vrrrw+fNpZzRlP2UVks9VgnnTVrlhFvxrrW8Ne/fPnycKDGRJR9DCThuYqAkhqZOCJYGc4bz+8A5d2Y8dkFOqkV4xVWfxwUEsg6ArDjhJkLPDnoTdn3/YPNJfxQY62BjuxHbS/CzWNKG2sS9GFjlI+3jqgnYQESIIECSQCxSnD/xOJYmB06SSbvsfCMo8EGDfMi+N53a6PV7lj6Y5WN9RsLafVlxrhf2732WMcn65zx1IP1Z3je2ddYWO1J1Xc8vwM3Znx2perqmPVS2U8tX9ZOAiRAAiRAAiRAAiRAAhkj4Py6nrHm8MQkQAIkQAIkQAIkQAIkQALJIkBlP1kkWQ8JkAAJkAAJkAAJkAAJ+IwAlX2fXRA2hwRIgARIgARIgARIgASSRYDKfrJIsh4SIAESIAESIAESIAES8BkBKvs+uyBsDgmQAAmQAAmQAAmQAAkkiwCV/WSRZD0kQAIkQAIkQAIkQAIk4DMCVPZ9dkHYHBIgARIgARIgARIgARJIFgEq+8kiyXpIgARIgARIgARIgARIwGcEqOz77IKwOSRAAiRAAiRAAiRAAiSQLAJU9pNFkvWQAAmQAAmQAAmQAAmQgM8IUNn32QVhc0iABEiABEiABEiABEggWQSo7CeLJOshARIgARIgARIgARIgAZ8RoLLvswvC5pAACZAACZAACZAACZBAsghQ2U8WSdZDAiRAAiRAAiRAAiRAAj4jQGXfZxeEzSEBEiABEiABEiABEiCBZBGgsp8skqyHBEiABEiABEiABEiABHxGgMq+zy4Im0MCJEACJEACJEACJEACySJAZT9ZJFkPCZAACZAACZAACZAACfiMAJV9n10QNocESIAESIAESIAESIAEkkWAyn6ySLIeEiABEiABEiABEiABEvAZASr7PrsgbA4JkAAJkAAJkAAJkAAJJIsAlf1kkWQ9JEACJEACJEACJEACJOAzAlT2fXZB2BwSIAESIAESIAESIAESSBYBKvvJIsl6SIAESIAESIAESIAESMBnBKjs++yCsDkkQAIkQAIkQAIkQAIkkCwCVPaTRZL1kAAJkAAJkAAJkAAJkIDPCFDZ99kFYXNIgARIgARIgARIgARIIFkEqOwniyTrIQESIAESIAESIAESIAGfEaCy77MLwuaQAAmQAAmQAAmQAAmQQLIIFElWRQWtnvHjx8v7778v+++/f0HrOvtLAiTgQmD37t1yySWXSLNmzVxKMDmoBLZt2yY33nijFCnCx2Z+r+GOHTukaNGixie/dfF4Esg0geLFi8uoUaOkZMmSmW6K6/l513JF450xdepU6devH5V9b0zMJYECRWD16tXy4YcfUtnPwqv+448/SokSJaR3795Z2Lv0dmnMmDFy+umny3HHHZfeE/NsJJACAtdff7389ttvUrt27RTUnpwqqewnyLFw4cKGon/UUUclWAMPIwESyDYCmzZtEozyULKTAJR93vPzf20rVKggNWvWJMv8o2QNPiBQtWpVH7TCuwlZZbO/d+9eWbZsmWAqnUICJEACJJD9BNauXSt//fVX9neUPSQBEiCBBAkEUtlfvHixMZV6+eWXy6effmp0/YEHHpCKFStKnTp1pGzZsvLUU08liISHkQAJkAAJ+InA9u3bZdiwYXLBBRfIY489JqFQSL7++mupX7++YFStTJkycumll1Lp99NFY1tIgAR8QyBwZjxQ9Bs0aCDFihUTTAW+/vrrMnbsWONBcOGFF8oZZ5whb731lvTp08eYJjzzzDN9A5sNIQESIAESiI/Anj17pGXLljJv3jw5+uijjfv7hg0b5NVXX5UqVarIiy++KAsXLpRnn31WbrjhBg70xIeXpUmABAoAgcAp+/fcc4+ccMIJMm3aNClVqpTcfPPNctVVV8kdd9xhKPy4ZlD6O3ToYIwAxavsb968Wb755puol/7777+Xv//+O2o5FiABEiABEkicwEcffSQLFiyQRYsWGTbeX375pTRu3NjYnjFjRrjiY445Rnr16iUPP/ywsZA2nBHDBu75uPd7Cc4PM1EKCZAACQSNQOCU/Z9++km6d+8e9oKDqdv7779funbtGsG+S5cu8tBDD0WkxbID92qYHo4muPFjMR6FBEiABEggdQTgBadJkybhxZyNGjWSI488Ms89/7zzzpPLLrtMVq5caeTH06KlS5fKqlWrPA/BPX/+/PmeZZhJAiRAAn4kEDhlv3LlyoLRHLi9hFgjOzNnzjSmeC3IMPdJZIV09erV5dZbb7Wqcf1+7rnn4h49cq2MGSRAAiRAAo4EcM//9ttvZevWrYZtPpTyn3/+WT755JPwbC4OxGwrBKY98QpiI0STt99+W5YsWRKtGPNJgARIwHcEAqfsw8dxu3btDLt92Ox//PHHAh+nI0eONLzwtGrVSiZNmmTY8UMhp5AACZAACQSXQMeOHQ1zTYzmwzf7xIkTpUePHjJhwgQZMGCAsb1u3Trp27evnHXWWVK6dOngdpYtJwESIIEUEAicst+2bVt58803DWUeIz3wutOzZ09Zv369DBw40PDSUKhQIWMbJj4UEiABEiCB4BI44IADDK9rWJ8FUxqYcY4ePVpat25t2OiPGzfO6Bzs+J944ongdpQtJwESIIEUEQicsg8OsM/PbaP/8ssvGw8AeGzAQi2Y41BIgARIgASCTwAulcePHx/REThi6NSpk8yaNUvKly9vRGNFsEMKCZAACZBAJIFAKvuRXcjZq1SpkuGFJyeFWyRAAiRAAtlKABFt4/W4lq0s2C8SIAEScCMQyKBabp1hOgmQAAmQAAmQAAmQAAmQQA4BKvs5LLhFAiRAAiRAAiRAAiRAAllFgMp+Vl1OdoYESIAESIAESIAESIAEcghQ2c9hwS0SIAEbAY0vp37MRVq0EF0LI/LSS7ZMbpIACZAACZAACQSCQFYt0A0EcTaSBAJAYPt2kaZNRV0d5jRW3ZtrdGmRhx/OSeMWCZAACZAACZCAvwlwZN/f14etI4GMEIBCb1f0rUbApblTupXPbxIgARIgARIgAX8RoLLvr+vB1pCALwio63JX8cpzPYgZJEACJEACJEACGSFAZT8j2HlSEvA3gTJl3Nvnled+FHNIgARIgARIgAQyQYDKfiao85wk4HMCl1zi3MCyZUXat3fOYyoJkAAJkAAJkID/CFDZ9981YYtIIOMEzjpLZPhwkcKFc5pSvrzIO++IQOGnkAAJkAAJkAAJBIMAvfEE4zqxlSSQdgJDh4pceqkIbPRLlxZp1UrkwAPT3gyekARIgARIgARIIB8EqOznAx4PJYFsJ1Czpgg+FBIgARIgARIggWASoBlPMK8bW00CJEACJEACJEACJEACUQlQ2Y+KiAVIgARIgARIgARIgARIIJgEqOwH87qx1SRAAiRAAiRAAiRAAiQQlQCV/aiIWIAESIAESIAESIAESIAEgkmAyn4wrxtbTQKBJbBzp8jSpSJbt+btwr//ivz0k8jmzXnzmEICJEACJEACJBA/ASr78TPjESRAAgkSuOsukQoVROrVM7979xb55x+zskcfFTn0UJEjjzTzENhr+/YET8TDSIAESIAESIAEDAJ0vckfAgmQQFoIjB0rMmRIzql27xZ58klzv3lzkX79cvL27hV55RWRXbtE3n47J51bJEACJEACJEAC8RGgsh8fL5YmARJIkMCYMc4H/u9/Il995ZyHiL2rVolUq+acz9SCTWDHjh2ybds2qVixYsEGwd6TAAmQgAcBmvF4wGEWCaSKwOLFIu+9J7JwYarO4L96V692bhNG+FeudM5DKpR9SsEm8Mcff8jNN98sb7zxhgFixYoV0qZNG43sXFoqVaok1atXl1GjRhVsSOw9CZAACbgQoLLvAobJJJAKAn//LdKpk0j9+iLnnity3HEiHTqI/PVXKs7mrzphp+8k++8vcvTRTjkihQuLHHGEcx5TCwaBUCgkDRs21Jfj96Ry5cpq2rVL2rdvL9999530799fXnrpJWnatKmh7OOFgEICJEACJBBJgGY8kTy4RwIpJXD99SLvvx95iokTRQYMEHnuucj0bNsbMUKkc+e8vRo8WKRJE5EzzxTZsycyv29fkUMOiUzjXsEi8MUXX8iGDRtkzZo1UrZsWZk0aZIsWbJEPvvsMznttNMMGJfoau4ndQHILbfcInfffbe+JOpbYhwyf/582bJli+cRixYtMl40PAsxkwRIgAR8SIDKvg8vCpuUnQRgrqKDkI7y6qsijz8uUqKEY3ZWJJ53nghs8O+4Q1RZEznsMBG8/OjgrCF46YHiv2CBqA22SJ8+IrfemhVdZyfyQeDrr782Rvah6EOglB988MFhRd+q+qKLLpLe6t4JJj61a9e2kmP6Xqj2dCu9bMm0lqXqL/Zf+IalkAAJkEDACFDZD9gFY3ODS0DXEgp8zDsJdAi4mcxGZR+j9XCrOX686WYTSv9NN4naW0eSaN1aBB+12pBChSLzuFdwCRyntm4Ysf9JAzAcoTZdGM3ftGmTzJ492zDfschgxL9kyZJSo0YNKynm7x49ekQt+7a6hfrxxx+jlmMBEiABEvAbASr7frsibE/WEjjwQJG6dc2AUrk7WauW6Vs+d3qy99VaQV54QWTjRtHRUpErrhApVSrZZ4ms78ILI91nfvmlCEbxZ81yfrmhoh/Jr6DvNVe/rGeccYacdNJJMnz4cGnQoIFhn4+R/Msuu0waNWokn3/+uYwePVpnhgbHbcJT0Pmy/yRAAtlPgMp+9l9j9tBHBOB+8uyzRWDSYwnMi93cUlplkvENv/UYwLTs4rH/zDOits8iBx2UjDPkrWPGjEhF3yrxzTcicLkJm3wKCXgRKKRvf6+99pr+j4wx7PE34k11n9x5553GVvny5dU87A5D2bfy+E0CJEACJGASoLLPXwIJpJFA27amcn3vvSI//yxqW2yatOxbZ5iylqgrcsMG3lL0rRPpmkNBVNv777dSkvs9Z457fcijsu/Ohzk5BA444AAZOnSo4X5z2bJlsnbtWvn999/1JfUgqVq1qs6Y1dUZqhRPUeU0h1skQAIkECgCVPYDdbnY2Gwg0Lix6WM/nX1Rhyau7j2nTHFX9jED8e235lqDk0/Oa2cfrQ/71lQ6FvPKczyAiQWeQAld1HK0+mnFh0ICJEACJBAbAfrZj40TS5GAbwnAYyAW93pJsWLuuW55UPKPPFLUJlqkZUuRKlXcvQm51Y7FuG5eENU1OoUESIAESIAESCDFBLJK2UeUxe3RtJ4UA2X1JJAuAlhse8opor7HRcqUEYGJkFu0WcwmwJ2lk0Ahzy0w+0Gwr19/zclBWs+eInPn5qRF21L36OE1ArnLTp6cO4X7JEACJEACJEACySYQSGX/q6++krPOOkvNEsywoxMmTDDcrR166KGGDSe8NsyCqw8KCWQpATVZVg8lIvqvYMjevSIwx2nVSjTwT95Ow6WnrnEUeASyS7t2It27iwwZItKli+n3Xj0cGoG/1q+3lzS3cR4srI1Vvv/evaRXnvtRzCEBEiABEiABEoiHQOBs9ufqsGJjHaZs06aN0c8v1Y/fueeeK/DF3K9fPylevLjAH3Jrddg9derUPIFX4oHDsiRgEcDCVnXjLb/8Yi6qhZJcJIP/PU88IbJ5s9W6nG8s+tWfv2hAUQ0+JBp1VKR6dRFd3ygtWpiLgt96K8f1Jlx+whZfJ8XCgrq93I7by4YPctnQtZOu4pXnehAzSIAESIAESIAE4iKQQXUlrnaGC8MFG0b1P/jgAyPtqaeeUvOEimpaMFeVL7M7/TUkZysd4nz++efjVvbh4WEKhkijyDa1aWA0xSiQsiQbpigwkZk3L6dDxx8vAjMUnUzKiKhDElcZNUrU57gIRs7xkgKb/IEDRX2TixxySKQHnPbtIxV9VIrAX/v+vRzPoRNnMcupp5ovE3C1aRf40h8wwJ7CbRIgARIgARIggVQQCJwZzzeqNbSF5rVPEDr9nHPOCSv6Vnq3bt1kwYIF1m5c3yEN4RntgwpRhpL9BPr0iVT00WP8tHr3zlzf69RxP/eSJSILF+bYyiM6L1x9jhwZeQx+vh9/HJlm7f32m2kmZO1b3zVris6gWXvRv/fTOwxeHGBeZEmFCuZCXyz6pZAACZAACZAACaSWQOBG9o899lh5S+0QLr/8coEbthZqm4DIiQ8//HA4ciKUcIROr1evXtz0MEvQE6sQo8hI1ZxgMkTJbgL//GParzv1UpeKyI4dqY9A63RuvGg8+qjIpk1Ouc5pY8eatvlWLkbX8RPGy4CTIODWiy+K/r+Zo/2nny4yYoS5INipvFtapUoi06aJ4AUCpkWHHy5StKhbaaaTAAmQAAmQAAkkk8B+yawsHXUNGjRIFmkkoFPUDcnrr78uTZo0MQKqIKT6/3Tl4JtvvimdOnUSLNodCNsFCgnkgwAUYXu0W3tVMJHBy0AmpHJlkU8+EYGZTKzy55+m0m4vj0W5TgLvPTVqiAYyEv1/M9cqqMWcq0ef3HXgXDju779zctDmo46iop9DhFskQAIkQAIkkHoCgVP2q+tqw88++8wIqnKJrkJs0KCBTJ8+XT7//HO54oor5IILLpDVq1cbNv3wykMhgfwQwMJWLGB1EtjtZzIwlE5yyezZpo99KNLRBP7ur7lGNPpoTskHHhD9H8rZxxZMdTCin4hgpgPefbA2AO07+GAzQm8idfEYEiABEiABEiCB/BMInBkPunyUDg+++uqrMm7cOFm+fLkROn3r1q1SWTWeww47TAMBHZl/MqyBBPYReOQR0+bcHsJh//1FHnvMH4jQFozQqyWbp2Am4vnnTTt9LDaG7TxeVhBd98MPRX74wfTco86tpGRJz6pcM2Fe9NJLOdlY7Au3njhP37456dwiARIgARIgARJID4FAKvsWmvLlyws+J7sNvVoF+U0C+SCAwFVYkAtlGq4tsThWHT4Ztuf5qDaph2LxLUJLINBWNNGJL4H9/p13miUx4q9r3I1PtGO98jduFHnlFecSDz0Um7IPsym3iL7ONTOVBEiABEiABEjAi0DgzHi8OsM8EkgVgdq1TQV54kRT6cciUz9J6dIiMCuKVexuRGM9Jlo5LMBF0C0ngb9/L8FsABhjwTAW9N5/P7xdeR3BPBIgARIgARIggVgIUNmPhRLLkIDPCCCKbYsWpoIP85h168xFtLE2U51OJV2grLuZ/xxzjPvpMBsAO/9ffzXLaKgLuekm2vq7E2MOCZAACZAACcROgMp+7KxYkgSSTmDGDNFF5SLqTEquuy5y8azbya6/XnQxusinn4p89525dqBhQ3NE3O0Yezp83195pT0lOdtYO3DLLXnrwvngstNNhg93zkFsgF27nPOYSgIkQAIkQAIkEBsBKvuxcWIpEkg6AfixR7Ap9RarHqZMM6ETTxRddO5+ql9+EYH9e26BmQwCSO8LIh2RDWXbkjJlRF54QaRRIyslud9w1anr5o11DTDJgUMsLP5t1875PDD7wToIJ4HbzmjmP07HMY0ESIAESIAESCCHgE0NyEnkFgmQQGoJQJHFCH1uu/Q//hC57Tb3c3/1Vd5jrNI//mjavFv71jcUapj64IUCbjfVY21KBRF2ocBjVF4DXrsq+mgEXkSqVXNujmW/75zLVBIgARIgARIggVgIUNmPhRLLkECSCcBrzl9/OVcKpdxNypVzyzHT7UGs7CWxIPe000RgauM3gX2+k/Tp48/2OrWVaSRAAiRAAiTgVwJU9v16ZdiurCZw4IHu3fPKa9nSjGzrdPQZZzilmmluXnLcj0hfDmYCYJ9v9btECXPW47770tcGnokESIAESIAEspUAlf1svbLsl68J1K8vgo+TXHyxU6qZBtOW998XqVUrpwzs9LHIdfBgEUT8dZIOHZxS/ZN2880i8NO/YoXIpk0iiOxbtKh/2seWkAAJkAAJkEBQCVDZD+qVC1i7d+8WQcAkimk3P2yY6aYSyrtdLrpIZNAge0rk9uzZpk0/FGEssr3rLpGVK0WwMPagg0Sefjqvkty0qciNN0bW44e9778X6dFDBEHL4JHo22/NCL5u7jv90Ga2wX8EVugb4i66bfLfhWGLSIAEfENAxwQpJJA6Agi0hMWh8MgCU5IWLUQefVSkbt3UndPPNX/9tciZZ4ps3Zq3lbfeKoJIuG7y0UdmlNs9e3JKoL5jjxWpXNlMg9KMffiu37zZfCHAC4STl56cWtK/9cUXIjA72rnTPDcWHr/zjvlBNF8KCcRC4J9//pGaNWvKxx9/LKeffnosh7AMCZAACRQ4AlT2C9wlT1+HMdiG5y+8xFgCv/LwKb94scjBB1upBecb/vGdFH0QQNTY3r1FDjvMmQe899gVfZTC/sCBImefnXNMvXrmiH9Oiv+20BdL0bdah7707y/SsaNIoUJWKr8LOgEo8u+++64jhj37/iHGqb/X8ePHG2UeeeQRx7JMJAESIIGCSoDKfkG98mno91tvRSr61inhXvLJJ0Vuv91K8d83POVAd8DMBEbK27fPvwKKKLcLF7r3FWZO06aJXH65WQamT/DFP2mSqdT/9JPzscuWifz5p0j58s75fktFv+bOdW7V6tUi+Li543Q+iqnZTGCzTlE9/vjj+gJYSGcE6xrfVn/37lt5vmDBAvkFQSgSlEWLFulLuMN0m62+JUuWCGYSKCRAAiQQNAJU9oN2xQLUXjflFF3wyst0F/W5L23aiEA5t6RZM5GJE/PnCjIWUxprRBs6DMxZcM5oArt/t4W50Y7NRD44lC7t7HoU/be88mSibTyn/wh06dJFZuiUYPfu3TVYWx1dl/K0zgqa04JQvkuo+6b//e9/+TLj+UrtyGD77yVQ9rk2wIsQ80iABPxKgMq+X69MFrRLTWldxSvP9aB8ZGC2v3Dh6BUgyNWFF0Yq+jgKvu8xEzFmTPQ63EpAP2nSRGTOHOcSUNpbtzbzEFU3FkUfpeG9p1gx5zr9mnrppSKPPZa3dTBHwkJjCgnYCTRX27/vvvtOrrnmGjnmmGN0xusZNV2z2a7ZCyew3atXr6hHvf322/maPYh6AhYgARIggRQR2C9F9bJaEjA8rFSvnhcElLmrrsqbnuwU2IRfd51I2bKmMty4sbuibZ176VKRH36w9iK/9VnvKrAAGDVK5Nxzzb59+aVz0WefFalSJW8eIslC+bXyZs7MW8YpBfrO2LFOOf5Ogw99mEbZBd6FYLZEIQEnAgfpjePVV1/VF+4xxij/lVdeqYHpXCLTOVXANBIgARIooAQ4sl9AL3w6uo1orbq2TjBo9umn5hlPOMF0D2kptalsB0a87ev6oIDDAwzsxWGH7yReHvzczHU3bBA59VSRn3/OqVGtCtS0QKRnz5w0bB15pIhaA6jSYrKBrnLSSSLduokcdVROWa9ItwMGmAuf1aJBjj4655ggbaF/8C4Eb0JYwI2XQrgItcyYgtQXtjW9BLrpP0tT/bHArOfkk09O78l5NhIgARIIIAEq+wG8aEFqcu3aIhilhhtILMxMlwcenfGPUPQtZlDm77nHVLatNPs3Al1VrCjy++/2VHO7Vau8aUhBQCu7oo802NzDswxG+suUQUqOwL7+6qvNT05q5Nb555smQzArsgtmAPCighF9bGda1qwx+w6zrBo14m9NgwYi+FBIIB4C1XQFN+z4R48eLW+pJ4ADudAjHnwsSwIkUMAI+EBdKGDEC2h3YUqTLkUfiGGO4yZeeVg8+tRTeW3g4Q7z3nuda8TshZNs3+7udcapvD0NgaYefDCvf3y8RMB9J0bBt2yxH5HabXglQv/PO8+cgcBIPGZnwAXuVaHsw8f/jh2pbQdrJwGLwH76tjtII9B98803HOG3oPCbBEiABBwIqGpDIYHsI+C0VsDqpZepDspg1BzRXBGN1nK9icBg5cpZNUR+e0V89cqLrCXvHtYbwCPPWWflXUeAoFTXXivywgt5j0t2yuefm/b127Z514xFxZi1oN29NyfmkgAJkAAJkEA6CXBkP520ea60EcBiT4x+Owls5qPF3VGHH8bCV8QKGDLEVPQxgg9vOlBoEQEYkYAhXbua37n/YtQb7ciPYDEz2uskaNs+N+NO2UlJQ/3wnBNN0bdO9tJLeYNlWXn8JgESIAESIAESSD8BKvvpZ84zpokAPN+4yUMPueU4pyPyL3zvY0Qd5jlYVNqvn2mvf+ONIp06RR5XoYKoLbFI0aKR6fY9BMIaPFikZUuRzp1FJkyw55rbMIvJbbdvlcIMxb4AolZS0r+//15k+fLYq0VgsE2bYi/PkiRAAiRAAiRAAqklQDOe1PJl7Rkk4OY9B01ClFY3wWLb2bPNhbVnnmmO5GN030mxvvtukeuvNxcDw+MQvMtgbQLMb7z8xSOKMEb97Yo0IvZi8bCaIYcFdvFHHOEchAwegLxeJsKVpHGjUiURfCgkQAIkQAIkQAL+IMCRfX9cB7YinwSgZHfoIFK1qkjDhiIvvihSq5aIm828m8tKjLTDROfyy83RdngTguKPqLpOghcKyxOPxv0RjPL36OGt6KOekSMjFX2rbrxU2CP3Iv3xx0WjhFolzG84H3n44ci0VOyBU40asdeMRbx+8BIUe4tZkgRIgARIgASymwCV/ey+vgWid/Cbf9ppZsTZtWvN0XUo3OPGmWYyuSHAl/uIEblTRbDAFCPrdjt4+NCHBxq443QS1FW5slOOdxoi8jrJf/+J5A7IBW836nDEcNcJUyL42V+wQAQxC1ItUNxhh+/m2RCzGBjJx/qIDz4w7ftT3SbWTwIkQAIkQAIkEDsBmvHEzoolfUrg1ltFnEx24P9+/XpzlB02+vAJj5FqKPrwcJNbXnkld4q5D4UfZjnWCL69FBbnur0I2Mvl3nZTnlHOKQ/tfuKJ3LWkZx+KPKIKY7YE3onQX/j6RxAwzHxQSIAESIAESIAE/EuAyr5/rw1bFiOBefOcC+7cafrbR3ArfKKJl8cZeOHROD4yapQIFsZiRB+KfqJuJhHd12l0H+dw8yIUrf2pzMfaAZg4UUiABEiABEiABIJFQCfpKSQQbAJeI+uHHmr2DRFx4VkG3mLcBKZATgLFHgo47OmxsBYvF7Crf+MNc/Gu0zHR0q68UqRPn8hSMAfCIt3ixSPTuUcCJEACJEACJEACiRKgsp8oOR7nGwJXX+3clHbtzAW6WLgLu3L4zseLwf/+51z+hhtE6tXLm3fzzSKHH26mw8c+bOWtl4i8pWNLwQvEY4+JLF5szg68+65pJnTSSbEdz1IkQAIkQAIkQAIkEAsBmvHEQollfE0AkWRhS/7ggznuMeEyEwtLzz1XZNasnOZv3ixyxRWm0o+XALuUKWP60X/gAfMY2M7D3Ob88+2lkrsNW3x8KCRAAiRAAiRAAiSQCgJU9lNBlXWmlQBGye+7z3R7CVMdyzc9zG3sir69UXBbmVvZRz4UfidPPfZjuU0CJEACJEACJEACQSEQ1YxnlmpLAwcOlO+++873ffr77781WNJq37eTDUwNgUMOMaPRIggVxOunYOVt3WoulIU5DYUESMAkcK8GTBg7dqxsgCsqCgmQAAmQQKAJRFX2D9IwoFOmTJHjjz/e+DykPgz9+gAYr6sbT0iH8/FAX/KC03gv8xjkjRlj2vIjGFb9+iINGoisXFlw+LCnJOBG4ABdnDJcfddW0WmyTp06yXvvvSf/IQgEhQRIgARIIHAEoprx1Fct6Ad1sv2NRvV5UR1tj9TQnzfrisX27dtrpNAe6q/8LClatGjaOn7//ffLihUrHM/3448/Ckb3+/XrZ+SfeOKJGgn1cseyTAw+gc8/F1m2zPT1fuqpeftTp45Iz54izz8fmYdotI0bi1x/fWQ6Ald17Cgyfz6jwEaS4V5BI3DNNddIr1695MMPPzTu++frwpUyauN2sS5iwX2fgyoF7RcRzP7qOKW8847phQ3ruC66iPf2YF5Jtjq/BKIq+9YJTj75ZMHnAV29iJH+d9V9SE/VpIoVK2Y8AHr37i1169a1iqfs+9tvv5XXX39dypYta4w62U+0ZcsWY/Tp008/NZKLJ+DDcNWqVfKKW3Ql28k260rPXXC4Tkk7Ab3MOtoosu8yG+fH6LwOPopOREXI00+b/vHhgefPP0UaNjTt+4cOjSgW3lm4UKRLF9NTjpdLz/AB3CCBLCWA+2fnzp2Nz8aNG+Xtt9827vsYRDlWo6rhZQCKP14CKCTgNwKIC4KI6Ja88ILIW2+Z7o0RGZxCAgWJQNw/eSjD83Xoc56uftymUYhq1aolc+fO1WiaR6kfcnVEnmKBIj5KIxthSrl79+7GWoJFixYJPkiH2ZG1jxeTeAXT1yep/8NoHzwICxcuHG/1LJ8EApi4sSv6qBL7+yZ0Is5QRF9nEUn3l19E/vrLLHfKKWZk3YiCth24wUQZ+NSnkEBBJ7B3717jnor7PtZu4d5XTaO/wa6/toZQnjlzZkFHxP77jABmZ+2KvtW8998XHcyz9vhNAgWHQEwj+xjVeUMjCL388svy5Zdfqo/xQ+XSSy819o/eZxj9lr4yY6r3XPV1iJGfVMl++ko+WF/ZW7dubcwoWNPM1atXT8opMWOAuqNJqVKl0mq+FK09BSX/n3/M0Rmn/r75phmoCiP4xx0ngp/EggVm9FyY/EDxx4zAI4+YvvK91pzrO63h4UetxigkUCAJYNAE9/xXX31V1qxZYwyAYEDnIrWFKFeunOzevdsYcMEI/zLY01FIwCcEpk51bwjyVH2hkECBIhBV2f/ss8+kVatWBhTY53/wwQfSTqMVFYHmZBPY8EPWr19vS03dJkbeMbtw4403GlPKD6svRbwIULKbwM6d7lFwsX4QkW4hcMep72O6hsPcx1/kYxr3p5/M6Lcw+4FJkJvoey2FBAokget1QcsYXcF+8MEHyyWXXCKXXXaZLmKvH8ECzwAMjEyYMEFCoZD+z+k/HYUEfEBArYtdxSvP9SBmkEDACURq7A6dwQj2ferEHAuzcON3E0zt/v7778aov1uZZKejbY9pGNIO6jAdC3FLliyZ7FOwPp8RgE0+JpPgT99LVPeIUPTtZTGir2vOdZZK1O5YBKP+TlK+vFNqTtr27aImDCJ4ATntNDNQV04ut0gguARglol1Wbi3ejlgwExuF13kki5F3+ulAjMNO3bskAMRDY9SoAmcfbaoIxHR2ae8GM47L28aU0gg2wlEHQrHotzrrrvOU9EHJIzywLwnE4IHEqacG6uLFbgIpWQ3AQTE0nfLfAlG9488UmT6dJHDDnOuCp583GTGDJGaNUXwUEGE3Ro1RMaNcyvNdBIIFoErNMw0XG56KfroERbnli5dOuWd+17f7k/TN+oS6koL68Qw64C1BHaBKSkXC9uJFNxteGLTcUDDdNNOAR7YnIIp2stwmwSykUDUkf2gdPoQjaj02muvBaW5bGc+CJx+ujkqj/XXWHiLgTwvG02nU6m+YAjccKplmq41EbE8usKT7LBhZprTsbqERTA6hIBclmAtwYAB5lqBZs2sVH6TAAnkl8B2nUJr27atYaYJs004hLjhhhtk2rRpgtgqeAGgkEBuAldeKdKihXl/x/0ZrjcRS4VCAgWRQNYo+wXx4hXkPmMC56WXTALqFErgJhPmNLEIPMSec05OSdSlIRoMcx4o8PDEU6lSTn7uLdj62xV9e76GohAq+3Yi3CaB/BGYOHGisRZs3bp1Un6fbR3WknXUoBgXXnih+lF/J9+e0RBLBt7lvOQnnQ78B1ojJTAEDj9c9MUwMM1lQ0kgZQSo7KcMLStOFwGM7N95p+hi7ehnbNNGBL73cy/Swn7LltGPRwkNseAqXnmuBzGDBEjAlcAKnXJr1KhRWNFHwWb6Rj158mQ5Xaf5rr32WvWwpS628iGzZ8+W5cuXe9awdOlSxlbxJMRMEiABvxKgsu/XK8N2xUUAozfq+lsef1xEBwBlzx7Rh7e5QAteeeCD/9ZbYWMcV7V5Cs+ZY0btzZOxL6FJE7ccppMACSRCoHLlyoJgihh5ty++xQsA4q507dpV18/UFJRLVK666qqohyKoWLQXgqiVsEAgCODZAbfLcASBNV14fqi3WXnwQRF95zPWaMFs84QTAtEdNpIEhMo+fwRZQ0Cf+frgz+kOgmhB8cfNOr+OmuDdBzagiMTrJhpUVDSQNIUESCCJBODWGd7e4PoZkdq7desWrh3egJ555hnDG1sq47uET8iNrCeweLHpwtluqqmhJozZ4F27crqPNJh0qidyCgn4nsB+vm8hG0gCCRLQYMhyxBF5FX243FRPrYLQELfdJrJhQ/QTaGwhR0UfoR005INRz6xZIvvvH70uliABEoidAAJ4wQ0ozHkGDRqU58Ce6jbrueee08X6ulqfQgL5JIBZYruij+rg+Mmu6CPt339F+vYVjTGBPQoJ+JsAR/b9fX0C1zrcAJ99VkTXzwmUbQ22aXhE8EtHMBrTvbtp5oM2TZok8sILIjDPgRmQm+gaQEfBQ0BNhhmR0ZEOE0kgOQSaN28uK1eulFUIbe0gPXr0MDz2INI7xX8EcI8dPdr0eAaXx3BV7FfBsytWgbnP6tXez45Y62I5EkglASr7qaRbwOrGyAeCLduDVD31lMi995oBTjKNA956MBIDe367rF1rjsxb3n3seda2lxMOrzzreH6TAAnkjwACd1WvXt21EsR5GQBDaoqvCGDtdP/+OU3SwPeCD2ZEddmF7wQOH3KP4rs1Un+SGmfCLZfpJOAfAmqEQCGB5BDATd2u6Fu1YmFsFEcXVtGUfi9YILJli/MpPvnEOd1Kbd3a2or8LlxY1CNIZBr3SIAESIAETAcJQ4c6k3jiCef0TKfGY4Ov4R+MhbuZbjPPTwLRCFDZj0aI+TET0Bg3joKR9GjKtOOBSU70sqeHxx4vueYa0QieeUuMHCka0TNvOlNIgARIoKATwKypmztimL/A7DM/gnVSt9xielr74ov81GQeO2SICGKl5BbEZmncODIV8Vm8HDZEluYeCWSWAM14Mss/q86uDjNcxSvP9aAkZ9SvL1KvnsiSJXkr1tg8noL2T58u8vzzIjNnmusRcEysvvk9K2cmCZAACWQhgYMPNr3YOCn1Bx2UN95JPAgQVwVR1C25+26R2283Y65YafF8v/++yF135T0Cg0Sw40df8G253jzjDNFgbnnLM4UE/EhgPz82im0KJoHOnZ3bDZtGBLPKtMC+8s03TVec9racfbZps29Pc9pG4C2448Yi3yefpKLvxIhpJEACJGARwIxpr17WXuT3+edH7sezh5liu6JvHQtlHd7W7LJjh+mCOZrXHNzXneTvv0WmTjVzEB0dzwCYdVLRd6LFNL8SoLLv1ysTwHbByw1cWtoF/u2x8LVCBXtq5raPOcYcmYHTjrFjzZGaDz4Q9eOduTbxzCRAAiSQrQTGjDEVfrgphhQtKnLKKSLqQCmq/PyzCEx1/vwzsuiECZH79j0rD3FW8EzCDALirWFtt8ZFc5Xc7jbtBTWeG4UEAk2AZjyBvnz5bzwWrcKb3VFHidSpk7/6MHIOG0aM5Hz6qWnqojFvpEqV/NWb7KMx2pSfUaVkt4f1kQAJkEC2EsBAisY9M7yy4VmDNU733CNiKf9O/d640XTbDNNJCF4QYJs/YoS57zVKv2aN6eITUW8/+sgsj79YI3DBBeYoPUxwcovXgFTZsrlLc58EgkWAyn6wrlfSWouREkSbtS+cxSgIbsq4seZHmjQ3VrmCAAAuYElEQVQRwYdCAiRAAiSQXQTgahhe17ZvNxetwpY9FilfXgSfWATxWSxFH+X/+8+0xccIPcwumzYVeegh55qwwNZpkS1KIy4K/P07Kfsw03STn35yy2E6CQSDwH7BaCZbmWwCMLexK/qoHzfIYcOSfSbWRwIkQAIkkA0E5s41Z4ChLJ9zjrn+ady45PZs2bJIRd9eO+KkVK0q0qWLaZpjz4t1280NdIkS7jXQPt+dDXOCQYDKfjCuU1JbuWGDiGXXmLtiuhLLTYT7JEACJEACsFvv2FEEZjKWYJQfccw+/thKyf/377+714GReUt++02kYkURmOtUqmSlRv8+4gjnMnh5cRKYp6LfFBIIMgEq+0G+egm2fdMmETebx9wLoRI8BQ8jARIgARLIIgKwf//jD+cOPfecc3oiqVg/5mVSY68TLwYNG8ZevogaLg8ebK/B3MZzr0wZ09OOPReKPsx+4LaZQgJBJkCb/SBfvQTbjgVSsJ10Uuxx46SQAAmQAAmQgJ2A0/PCyvfKs8rE+o3FsIi6HqtJ6aOPihx9tMjKlXnPAGUdHuHgfhNl4K7Tvp4MMwU33CACUyQEf4SceabIySebx2G0/9hjzXT+JYEgE+DIfpCvXoJtxwLc++/PezC8Jtx3X950ppAACZAACRRsAo0aufffK8/9KPecO+4Qeeqp2Fw2Yx0B3Gw62dwPHGjmQdlfvDhvvBdEQMdCX0vRR4sQCX7dOhFE06Wi736NmBMsAlT2g3W9ktbanj1FJk40RzEQCvy880TmzBE59dSknYIVkQAJkAAJZAkBjHbDY1tugcvma6/NnZr/fTyjEAQxFoEvfgQ6xKh8uXJmpHT498egFlx8YnTfSTAr4CQvvyxi962PqLmdOplRdA8/3PQMtHu305FMIwF/EqAZjz+vS1pa1a6dCD4UEiABEiABEohGALb5J50kgqCEiCzbooXI7bebgauiHWvlL1ki8uuvIm4LcWEShEW348eL/PuvGfAQC4GjCZR6K9JttLLIhwmP2xoEKPJwZHHggSLw3tO4sciWLWatiAEwdKjIjz+K4KWAQgJBIMCR/SBcJbaRBEiABEiABDJMAAo1vO/Azz4CMsIExisYlb25UJYxuIQFuBixR8DFK68UsY+QQwFHmddfNxV9HB+Loo9yNWrgb+yCviCiupNg3UC1amYOAoBZir697CuviCxaZE/hNgn4lwCVff9eG7aMBEiABEiABLKCABT7yZMju4IgjlZUXORMmSLy9deRZWLZw5qBRExQ777bOZLvnXfmBJf87jv3FnjluR/FHBJIPwEq++lnzjOSAAmQAAmQQIEhAHfPMMtxEizEtSSRSLWIqPvBByLwvBOvdOggMmmS+aIAW/8TTjBNcxC8yxIvH/6I6EshgSAQoM1+EK4S20gCJEACJEACASUAO3d7QCx7N5CHuC9Q1mvXtudE377gAtPkJ3pJ9xKtW4vg4ybXXCPy/vt5Y9PABKh5c7ejmE4C/iLAkX1/XQ+2hgRIgARIgATyEPjsMxGYvSBarZvinOcgnyQsWyZSuLBzY7Dg1xqVhz0/glvFKscdF2vJxMrBree995refGDjb8kpp5hR6N36ZJXjNwn4hQBH9v1yJdgOEiABEiCBmAj8pY7Vt2/fLoceeqi6VrRpYTEdHaxCW7eKILjTp5/mtLtBA5EPPxQ55JCcNL9uvfiiSI8ezq1DRFso0xAsgm3ZUgT9tQviv+hlllWr7KkiMK+56qrItGTuYe0ARu5zLxC+4gqRp59O5plYFwmknkB23yVTz49nIAESIAESSDGB//77TxWsp6WBarmlS5dWl4gHSmU1mC6hkZQOV8fn56g2/MMPP6S4FZmp/rrrIhV9tAKKaCoV3dw9Xb3ajD57223miDbMbmIRvWyCwFZuAt/9GNnHQllEts2t0OM4KNuDB4ucf74ZOAsvCPDYg5kORIJPlSCwV25FH+d6/nl3l52pagvrJYH8EuDIfn4J8ngSIAESIIGUEdirNisXX3yxfPTRR9KxY0fp1q2bBk4qJ/vvv7+OBm9Rf+gbdJHlJDnxxBM1sNKTOorsMoycshamrmKY68ANpZNMmGBGhz3gAKfc5KUh+GLXriKIQmtJ27amHXuxYlaK8/cvv4hgca6bIKotTGLge99L1qwxffvjJQOfdEzmLFzo3CK4CsV7ZRBmVZx7wNSCSIDKfkG86uwzCZAACQSEwCwNjzpRNc6vvvpKjj76aMdWD9ah30ceeURNQu5NSNn/USMkwTTIS35RzRVlvvnmG69iSc3DyPKuXc5V4kUA/u5j9XPvVAtcR8JLDhbJIjKsvlPJwQfnlISCf9FFkYo+cuFC8/rrRXr2zCkLn/OYccALQIsWIlWrmvXmlLBvrdOdJbr2oEhURR9H7dkjyt1+fOq3sXZg7Vrn8yDwV7rb49wSpvqBwDZ7uGU/NMihDYFW9kP6il/IWtmTq3M7d+40Ukq6xcnOVZ67JEACJEAC/iPwnWqkTdTGw03Rt1p8hRpTD9CIT6vUFqSaFRHJyozyPWPGDI3q+qtnKbwQbN68WaPHvuFZLtmZFSs6R5s96CBzsW6i58Nouk6WhEXfpeTdd0VnTnIi4gKJmx6DlwTr8YpFw/Pnh6uShx8WadPGDFpVo4bIihU5eeYWhvL/0+e3DpFHkVKlRNdnmCP7UYomNRs/ISfLsOrVRb780vwk9YSsLLAE1q9f7/u2B1LZf1FX/NyhBnW//fabMXV7//33a0CNUyNgY6q3aNGiGqnvzYh07pAACZAACQSHQOPGjeUeDWO6VVdulvFw1TJz5kz1+FJYzSsOibtzffr0iXrM22+/bbxIjB49OmrZZBbo3FnkjDMiR9cxeo5H25lnJnYmzBg4+Y/HSD4WyloLUGEq5OYfv0oVEaDAC4I+giMEpjZ4AXj8cZGbbhJp317k22/tRQbrYtxzNHpuI9GJG1c59ljT7339+q5FYsrA2N8XX5gzD5jFwIsOGBx5pAjWRNSp41wNFg8PHy6yb+zQWCvw0kupXSvg3BKm+pkABhr8LoFT9qdNm2ZM0zbXZfKw43xdDRqbNWsmY8eOlX79+vmdN9tHAiRAAiQQBwEsyj1YbUvwjYdqw4YN1XSlgrFQ126z/4z6peyr0ZCwaDebBNFhoSg/8IAIgk7VrGkqqMcfn3gvYY+ukxSOAiXdkqZNRTmbI+tWmvXdqpWpMLu9DGBxLjwG4bEM8x4o2/r4NmYDdJJEEFF33jzxVPaHDRPJr6L/8ssi8JXvZKU1fbrICy+IfPKJCBYL55ZBg8xjly41PQLFOWGUuzruk0DGCARO2ccCrDY6Pzh5X9ztOzWuNUb5+/fvLwfoSqX8Ls76+eefdQpS5yCjCBaF7bCvWIpSntkkQAIkQAKJEfhS7SZwnx+m2p9lommvqYbaitx1112q1KlWl4VSt27OaHsyuue1qBeuL+F957DDRMqWFXniCdM2HwtTLcELgE62GCP7cIvpJlD4IbC2hbcdfPDCgpkAjP737i26FsNUuM2SkX9vuEHk3HMj0+LZmzNHpHv3vAGx7HXAREjVB+NlxJ5ubYMVXJ1SSCDIBAKn7K9cuTJCoYfN/ogRI3QBzx4dKbhSqujcYisMOSQocOd29dVXRz36fQ2pVxwOgCkkQAIkQAIpJYC1V/fdd5+xAPf333+X5cuX66LSjYbJDu75+GS7v/1kAsbLAxbk6thWHsHCX8wiPPSQmYVFu1D6YTYEcxZ454GCDMHCWbWmdRQo+HYzIyxoveQSEYzqQ9SBkuFpSCfljdF1MzXyr15mY/FwoouQdWzQeKmIrDXvHmzwYdbDR3peNkzJDgKBU/ahjGMxVW6TnZEjR+poxGrp0qWL+t9VB7wJCty5HYM42FEEij7sQykkQAIkQALpIYDBnUpqbI4PJX4CMNF58EERHTMT+Kt3E8vtJBboYsEuIslCsFg21gntIUPMBbo4TifCjQW7djeccKcJW36cy61eKN9esxCo20vWrfPKzcmD5ZcXj5yS3CKBYBIIXFAtLLydoKuGMIo/3778X/k/++yz6vKrhUa9ay6L4AeMQgIkQAIkQAIkYIyiY6QdI/Pff+/t217H1OTff83gVZaiD4Rein6nTqbJDCbGYZuPha2WwG7eruhb6fD0gzy30AiXXpq/0fYTTrDO5P2NOAIcu/NmxNxgEwicsn/BBRfI0KFD5SVdEo+PXYroqznconXSu86yZcvsWdwmARIgARIggQJJAKY5iGQLO/logoBVWPowZYppXx+tvJUP23osdoWNf25LWoziuwnyYDakk/IRgvosU6KIjDh20Ge4LvUSrCOAKRGFBLKZQJEgdm6Izg/epP684Ikht8C85rnnntOFP70lCL5Pc7ef+yRAAiRAAiSQTAIw29GlDlEFvvsfe8xcSAu3mbFK7dpmlF238l6WsciDv/633jJfLhB1F/XBLWZ+BYo+vADdeqs524DZCnhmPekkEYz64xtuTbG+gEIC2UwgkMo+Lgjcq1X0eGU/BTG4KSRAAiRAAiRQwAlggS1G7DHC7yVwT2nZuXu5vITC/McfppKMUXz45bcCbDnVD7t/jN7DfMguWCTcs2dOyhFHiOCTTKlRQ+TVV5NZI+sigeARCJwZT/AQs8UkQAIkQAIkkDkCGLGPxYUlvOvA3SUCXcHHfrt2edtcvrwIPOvABh9uOqdOFUFUWS/BQlv4sodiX64cBuvMBbvwpaE+MSgkQAIpJhDYkf0Uc2H1JEACJEACJJA1BJ56ygykpc7sosqwYaLR6UUdXohgZFw9TRvuNtX3heFbHz744xWNi6YmtuZRgweLnHNOdHv6eM/B8iRAAs4EqOw7c2EqCZAACZAACWQFAZjnrF0r8s47ojEKRFasEJk5UzSApHP38EJgvRRgJB4xLBlYypkVU0kgCARoxhOEq8Q2kgAJkAAJkECcBGCjf8stIghKdeyx5jdG+Dt0EOncObbKYK4Dl51Y5EshARIIJgEq+8G8bmw1CZAACZAACXgSGDVKNOqw6TMfBWGTD9eY6sxOmjUz/eJ7VrAvE7b5xx8vAk85FBIggeARoLIfvGvGFpMACZAACZBAVAJu/uNhvlOmjMj48VGrCBeAp+vbbgvvcoMESCBABGizH6CLxaaSAAmQAAmQQCwEdu0S2bjRvSSi18Yrs2dHHvHnnyKvvSby22+mmRACY2lsSwoJkIDPCPDf0mcXhM0hARIgARIggfwSgHtLBKdKZjB5uPC0BO4327YVgcJvyf33i0yfLmIvZ+XxmwRIIHMEaMaTOfY8MwmQAAmQAAmkjMBddyVWNYJwOcmll5qpoZDIxRdHKvrI+fZbEbjVpJAACfiLAJV9f10PtoYESIAESIAEkkLgwgtF3n7bNLEpXDi2KmGGA7/6detGlu/e3VzYi9QlS0R++iky39rDsRQSIAF/EaAZj7+uB1tDAiRAAiRAAkkjABeb+EA5P+44Edjye8l994mcdprIwoWmL/7ffxc54QSRY44xj4IrTrjzdJPdu91ymE4CJJApAlT2M0We5yUBEiABEiCBNBE44ghzxL5XL5E1a/KeFBFzW7YUmTVLZO5ckfPOEzn//MhyUORbtRKZPz8y3b4HO34KCZCAvwjQjMdf14OtIQESIAEScCEQgrG4i+xWTXRbIi5mXOrLdPKUKSJNmojAfh4j8i++mP8WtW5tRs/FqP3nn4s8/7zpd/+HH8yAWw88IPLuuyJvvCFywQUiffpEnhN5Xoo+FgTDrz+FBEjAXwSo7PvrerA1JEACJEACuQh8//33alpympRQFzO1atWSMWPGyF6Eh7XJW2+9pb7jy9hSgrv50Uci7dqJfPGFCPzbQznv0UME/vHzK7Ddr1/ffJFAnVdfbY7kT52at2YE4EIbLMFLgZvA1AcvApUquZVgOgmQQKYIUNnPFHmelwRIgARIICqB7du3q4vHtrJq1Sq58cYbDWX/hhtukLPOOkvtz6MYoEet3Z8Fbr1VxGkSY+jQnGi4yWz5jBnutdnzqlVzL3fmmSIHHOCezxwSIIHMEaCynzn2PDMJkAAJkEAUAhMnTpT169fLvHnzZOTIkerHfbrMnDlT5syZIxequ5k9e/ZEqSFY2VDyFy1ybvPWrSIrVzrn5Se1VCn3o+15XbuKVK2at+z++5szBHlzmEICJOAHAlT2/XAV2AYSIAESIAFHAitWrJBGjRpJ+fLlw/nNmjWTyZMny1S1Pbn22mvD6dmwUaiQuykMTHAOPTT5vcy9ENc6Q9GiIp06WXsipUuLTJsm0qBBTlqdOiIwO1LrKgoJkIBPCdAbj08vDJtFAiRAAiQgUrlyZQ3W9K2x+PbAAw8MI8ELwCuvvCJddbi5Zs2aRrlwpk821ALJWAQLv/QwgYGNfMWK0RvXt6/IbbflLYegVjYEeQskmHL66SIjRogMGya6FsKspHhxkWeeEWUbWSn873/1lenR599/qeRH0uEeCfiTAJV9f14XtooESIAESEAJtG/fXoqr5gkb/d69e0u3bt3CXM4991xVSJ+Ryy+/XE6E78gEZdmyZYK1AV6CGYZ/od3GKGvXiugEhPz6a84B8FSDhbAnn5yT5rQFP/abN4s89JAI3F1itB/dfvRRp9LJSRsyRPTFSdRMSqRYMXB3NtmxzuZkzmPl8ZsESMBfBKjs++t6sDUkQAIkQAI2AuXKlVN3kO/KpTqsPWjQoAhlH8V69uypynChfJnzTJo0SX755RfbWfNurlRj+VJ2A/a8RSJSrrsuUtFHJhR4ba4sXhxRNM/OfmpgO3q0CBbq/vyzOSsQy4xAnoriTMCofe7IuXFWweIkQAI+JEBl34cXhU0iARIgARLIIdC8eXNdmLrS8MiTk5qz1UPtY+Cx5w04iE9A+vXrF/Wor7/+WuDeM1bRdcWOol5ERScJpEYNx+yIRPjYb9gwIok7JEACJBA3AR0/oJAACZAACZCAvwlg9L569equjTxUV64OGDDANT/dGTC9cROvPLdjmE4CJEACiRKgsp8oOR5HAiRAAiSQUQKw47/XpyFbtWmOgoBWHu8sjscwkQRIgATyQ4DKfn7o8VgSIAESIIGMEfhZDdrXrVuXsfN7nViD/MoRR0SWqFBB5IUXItO4RwIkQAKpJkCb/VQTZv0kQAIkQAIFjkClSiLz54u8/LLIDz+Yi2y7dxeBwk8hARIggXQSoLKfTto8FwmQAAmQQIEhAOc9V11VYLrLjpIACfiUAJV9n14YNosESIAESMCbABbkHn744d6FmEsCJEACBZwAlf0C/gNg90mABEggqAT6ItQshQRIgARIwJMAF+h64mEmCZAACZAACZAACZAACQSXAJX94F47tpwESIAESIAESIAESIAEPAkEXtkPhUKyYcMG2bRpk2dHmUkCJEACJEACJEACJEACBY1AIJX9tWvXyqBBgzTceA0pVqyYHHLIIVK+fHkpU6aMHHfccXLDDTfI9u3bC9q1ZH9JgARIgARIgARIgARIIIJA4Bborly5Upo2bSoInd61a1epVauWlCtXztjH6P7y5cvl7bfflnfeeUc+/vhjqV27dkSHuUMCJEACJEACJEACJEACBYVA4JT90aNHGyP606dPl+LFiztep1GjRkm7du3kxRdflOHDhzuWcUtcvHix3HHHHW7Z4XREbeTsQRgHN0iABEiABEiABEiABHxIIHDK/oIFC6RHjx6uij4YFy1aVHr27Cnjxo2LW9mvW7euPP3001Ev1XXXXSfVq1ePWo4FSIAESIAESIAESIAESCBTBAKn7Ddp0kQ+//xzufLKKz2ZzZgxQ6pUqeJZximzSJEihlmQU5497YADDpD99gvkkgd7N7hNAiRAAiRAAiRAAiSQxQQCp+x369ZNoPCvX79eLr74YsMmH4tzoXjDZn/FihXyyiuvyMSJEwWmPhQSIAESIAESIAESIAESKKgEAqfsH3/88bJw4UK5+uqrDXOevXv35rl2rVq1kqlTp0rz5s3z5DGBBEiABEiABEiABEiABAoKgcAp+7gwderUMTzt/Pvvv7Jq1SpjNP+///6TypUrS9WqVQ03nAXlArKfJEACJEACJEACJEACJOBGIJDKvtUZ+NiH4o9PugUvF/PmzZMff/zR89QffvihVKxY0bNMOjJ37dolf//9ty9ehGBuVbJkSeOTjr57nQMxGxJZ2+FVZyJ5mKH6448/fPFb+euvvwTtQdyKTAvM9WCmh7U0mZaNGzdK27ZtPZuxdetW2b17t2cZZgaXwJYtW+Tdd9/NaAfw/zlr1iwjvkxGG5KPk0+ePNkYpJswYUI+asnsoX55diRKAfoA7lV+uM8n2offfvtNOnToIIULF060iqQct23btqTUk8pKMv8ETWXvUlj3wIEDZdKkSVF/ZB988IGxxiCFTYmp6s2bNwvchR511FExlU9loaVLl0qFChWMTyrPE0vdWOx96qmnxlI0pWUwSwVPUw0bNkzpeWKpfM2aNcZDAEHrMi14oYaHrFKlSmW6KfLll19G/f/Bw7Nv374ZbysbkHwCJ554onEvx2xyJgVK5pQpU+SEE07IZDPydW68sKxevVp27NiRr3oyebBfnh2JMoA+sHPnTiNWUaJ1ZPo43JPr1avn6Z0xHW3s3Lmz1KxZMx2nSvgchUIqCR/NA6MSaNGihcycOTNquVQXmDt3rjEidc8996T6VFHrHzZsmLRs2dIXayr8cn3wMtarVy8ZP358VH6pLvDaa68JHsZXXXVVqk8VtX642b3zzjulWrVqUcumuoBffiup7ifr9zcBBI7E/8Szzz7r74Z6tG7w4MFyzjnnSKNGjTxK+Tsr6PcDPGvw4ti/f39/g/ZoHeIpYaatRIkSHqWYBQL0HcnfAQmQAAmQAAmQAAmQAAlkKQEq+1l6YdktEiABEiABEiABEiABEqCyz98ACZAACZAACZAACZAACWQpASr7WXph2S0SIAESIAESIAESIAESoLLP3wAJkAAJkAAJkAAJkAAJZCkBKvtZemHZLRIgARIgARIgARIgARKgss/fAAmQAAmQAAmQAAmQAAlkKQEq+1l6YdktEiABEiABEiABEiABEmBQrRT/BhAh0A/RP/fs2WNERS1evHiKexy9+n/++UeKFCkSNfpw9JryX8Iv1wc9QTTDkiVL5r9T+awBUWARa69o0aL5rCn/h+/atcuIjlioUKH8V5bPGvz0W8lnV3h4gAngfxP30CAHEvLTMyDRn0LQ7wd+us8X1GuQaL8TOY7KfiLUeAwJkAAJkAAJkAAJkAAJBIAAzXgCcJHYRBIgARIgARIgARIgARJIhACV/USo8RgSIAESIAESIAESIAESCAABKvsBuEhsIgmQAAmQAAmQAAmQAAkkQoDKfiLUeAwJkAAJkAAJkAAJkAAJBIAAlf0AXCQ2kQRIgARIgARIgARIgAQSIUBlPxFqPIYESIAESIAESIAESIAEAkCAyn4ALhKbSAIkQAIkQAIkQAIkQAKJEKCynwg1HkMCJEACJEACJEACJEACASBAZT8AF4lNJAESIAESIAESIAESIIFECFDZT4QajyEBEiABEiABEiABEiCBABCgsp/iixQKhVJ8htir37Nnj/z777+xH5Ciknv37k1RzfFX66frE3/rs/8IXp/sv8bsYeIE/HQvjacX2fB/HVT28Vwnv5fNht9RuhhT2U8B6e3bt8ugQYPk8MMPl3Llysl5550nf/75ZwrOFHuVuDF17NhRrrrqqtgPSnLJ1157TY455hgpXry4weWCCy6QNWvWJPks0av777//ZMyYMdKoUSMpXbq0NG/eXObOnRv9wBSX+PTTT2W//faTzz77LMVncq7+yiuvlLp16+b5/P33384HpDB1+vTp0qBBAylZsqSceuqpMm7cOEn3jf2bb76RI444wvXz888/p5AAqyYBdwJ+uZe6t9A5Z/78+XLxxRdL2bJlpVatWnLnnXc6F/RpKu6FN954o1SuXFmKFCki1atXl1GjRsnu3bt92mLvZvXv318OPfRQ70I+zPXD88GHWDybRGXfE09imbfeequ888478vjjj8v7778vv/76q7Rq1SrtyorV+n/++Uf69u0rEydOtJLS/v3hhx9Kt27d5OSTTxb8o957770CZap9+/Zpn2146qmnZPjw4dK9e3eZNm2aVKpUSc444wxZunRp2rlYJ8QL4mWXXZax3wjaMXnyZOPhdf7554v9U7RoUauZafn+5JNPpG3btsbL2KxZs6RNmzbGA/aDDz5Iy/mtkxx88MFy4YUX5vnggb9z50455JBDrKL8JoG0EfDTvTSeTu/YsUO6dOli3OPwPz506FC55557ZOTIkfFUk9Gy11xzjTz77LPSr18/mTNnjlxyySVyxx13GM+TjDYsgZPjGjz66KMJHJnZQ/zyfMgshQTOrqNllCQSWLhwYUhHZ0PvvfdeuNYffvgBtjwhVabCaenaUIU6dNRRR4UOOuigkConoR49eqTr1BHnUeUtVKNGjZDOMITTX3/9dYOLjmiH01K9oQ+cUMWKFUM333xz+FRbt24N7b///iF96ITT0r3Ru3fv0NFHH512HlY/debJOPdHH31kJWXs+8wzzwzpS2DEb0VnpEKqKGSsTdaJp0yZEtIRvdAXX3xhJfGbBNJKwC/30ng7rUpx6MADDwzpi3L4UB10CVWoUCG0a9eucJpfN7Zs2WI822+66aaIJnbu3Nl4tkYk+nxn27ZtxvMYzxzoBUESPz8f/MyxSALvBzzEgwBGiosVKybt2rULl6pXr55hCqCKlDFKGc5Iw8YzzzwjVapUEZz7oosuSsMZnU8BExGYzBQqVChcoGbNmsa2KtvhtFRvwCxk0aJFhimRda7NmzcLZj/SPYJtnR8zHW+88Ya89dZbxgyQlZ7ObzCBnHDCCcY3zL5gUpRuWbdunTHb8vHHH0f8Vp588sl0NyXP+TCiDzO4Pn36GLMOeQowgQTSQMAv99J4u6ovysZzsUSJEuFDzznnHGNk/Ouvv5amTZuG0/24gTVvmK1XZTOieXiOYdZcFb2Ie1ZEIZ/twBQJJrUwlQzS6L6fnw8+u8R5mpP+p3meJmRXwi+//CKY/ofCbxfY+K1fv96elJbtESNGyNSpU0VH1dNyPreTYN1C69atI7JfeeUVw+4Rpj3pFB1JkgMOOEBguw/7eChvuGZdu3ZNZzOMc+kIi1x++eXywAMPGHagaW/AvhN+9913orMbxsOsTp06ojNBhinPhg0b0tqk1atXG+eDrfxtt90mDRs2NF6QJ02alNZ2OJ0M0/V4McT/FIUEMkXAT/fSeBjg2YiBJ7tY+7///rs92ZfbWH+Hl31rkAqNxKAI1k+ccsopgVH0oQ+8+eab8sQTT/iSs1ej/Px88Gq3H/Ko7Cf5KkB5w00ht2BBUiaUfSixfpTPP/9cMFp7/fXXGzbzmWgjFulicS4UybvuuisjL0QDBw4UzPzAXj+TouZngpHrZcuWGfanUCgmTJhgjGJhRCtd8ttvvxmn6tmzp7z88svG4twlS5ZIhw4dZPz48elqRp7zqJmBYJYMs2N4EaKQgF8I+OFeGgsLPBvLly8fUdT6X8rEszGiIQnuDB48WDDajDVoQRDMovfq1UtGjx6d58UrCO336/MhCOxoxpPkqwRTECfzB5iv+MHtZZK7m1B1X375pZx99tmGKQQWymZKoLjB3Oqll14yRvdxI7n99tvT1hxM/cJ0xzKhSduJHU4E5RrT0/CQBIHHDIyqY2E3FptjwW46BAoBBAuW8eIBjxf33XefMd2strKGZ6t0tCP3OXQNjuBBCRMKCgmkg4DaiAs+luDZYo2EW2l+uZda7fH6RvvtZpwoa+1jljVoggEi3JugOONeGQS57rrrDG9rV1xxRRCam6eNfn0+5GmoDxM4sp/ki6KLP42p/tzVYvpfFyflTi5w+zNmzDDs0o8//niBVwm7/Wa6YRx22GFSv35944aNkePHHnssbd5wMIoOxREj6MuXL5eZM2fKV199ZSCAe7pvv/02rThgL2sp+taJdeGZ8eK6YMECKynl35YbOHi5gKIPgZIALx7warVp06aUt8HpBC+88ILgN3vSSSc5ZTONBJJOAO5mYTJifeChyi5+upfa2+W27fRstF5mYFYZJMHAw5AhQ4wRfdi/B0FgvoP7GLzi4XmDD549GITEtmUi4+e++PX54GdmVts4sm+RSNI33DjCzhmmD4ULFw7XCpvEFi1ahPcL4gZcZp111lmG7b564smIoo/R2dmzZxuLwcqUKRO+DHCN+u677xp+//ESkGr5448/BDMJuPniYxeMvmDhlKX82/NStT1v3jzjZRT2+pZYs1S5159Y+an4xtoWSLVq1SKqt9KxCC7dsnHjRmPRMMy+KCSQLgKIi1K1atXw6WAKaokf7qVWW2L9hrKf2zYfJjCQ2rVrx1pNxstBuce9AGaomYxbEy8IDNrg/ok1YrmlZcuWxqAXXmL8LNZzwE/PBz/zimibn10FBbFtixcvNlwYqoeVcPPVHMFIU5ONcFomNjSIVMZcb4JLqVKlQmo6E9IAJJnovnFO9aVvXIu77747og1w9Yj2pattOm0dWrlyZcQHvxn95wzp4qmQPgQj2pfqHV03EDr22GMjTvPcc88Z7VH/9hHpqdzRUaaQmiqEBgwYEHGac889N6RB6iLS0rWjI6gGBw28lq5T8jwk4ErAL/dS1wa6ZMD1pq4hi7jHqp99wx2nmme4HOWvZLXNN9xvwm100EQHuiKeN3j+6Joxw/UptpHvd/Hj88HvzKz2cWQ/4tUn/zvqt1bwlozRWdg6w8MJzDVgJgGziIIq4KE/OmncuLERlMTOoVmzZnLkkUfak1K2jfNgUe5DDz0kGn/ACPL19NNPC9zCIRiafTYmZY3QimGiknt0AqY9EExVYhQsnQIbzhtuuEGGDRtm2OmvWrXKiAwJsxXMxqRLMJuARcsaB0H05UPgmu/55583FlHrC1q6mhFxnh9//NHYx0JqCglkmoBf7qXxcrj66quNe8q1115rRM6FUwDYvMO7VRDMeNauXWs4LzjxxBMFtuN4btgF655w//KrwIw4tykxFkhjjWHuZ5Ff++DH54NfWeVpl6X18zt5BNasWRNq0qSJMRqIADwIAoHAWpmWTI3sq7mKwUJ/fI7f6uUkrWjQHgSmsdpTvHjxkLp5DGHUIJNiBV9LZ5Axq78IdnbLLbeE1GQn/LvVRdQhtZG3iqTtG21RBcCYacE10gdSaNCgQWk7f+4TqXISUtOu3MncJ4G0E/DbvTReALpOyxhJxv+1eq0LIVheumZT421r7vJjx44NPzOsZ4f9Owgj47n7hKBmQQuq5bfnQ26mft0vhIbpD5aSAgKw9cVbs5MrzhScjlXGSQCLPbG+olatWr4ekYmzW/kqjsVaK1asMGyF1awpX3Xl92Cse0FbECMiXTMu+W0zjycBEvAmAJVDzUaMe4y1CN/7COaSQF4CfD7kZeKVQmXfiw7zSIAESIAESIAESIAESCDABOh6M8AXj00nARIgARIgARIgARIgAS8CVPa96DCPBEiABEiABEiABEiABAJMgMp+gC8em04CJEACJEACJEACJEACXgSo7HvRYR4JkAAJkAAJkAAJkAAJBJgAlf0AXzw2nQRIgARIgARIgARIgAS8CFDZ96LDPBIgARIgARIgARIgARIIMAEq+wG+eGw6CZAACZAACZAACZAACXgRoLLvRYd5JEACJEACJEACJEACJBBgAlT2A3zx2HQSIAESIAESIAESIAES8CJAZd+LDvNIgARIgARIgARIgARIIMAEqOwH+OKx6SRAAiRAAiRAAiRAAiTgRYDKvhcd5pEACZAACZAACZAACZBAgAlQ2Q/wxWPTSYAESIAESIAESIAESMCLAJV9LzrMIwESIAESIAESIAESIIEAE6CyH+CLx6aTAAmQAAmQAAmQAAmQgBcBKvtedJhHAiRAAiRAAiRAAiRAAgEmQGU/wBePTScBEiABEiABEiABEiABLwJU9r3oMI8ESIAESIAESIAESIAEAkyAyn6ALx6bTgIkQAIkQAIkQAIkQAJeBKjse9FhHgmQAAmQAAmQAAmQAAkEmACV/QBfPDadBEiABEiABEiABEiABLwIUNn3osM8EiABEiABEiABEiABEggwASr7Ab54bDoJkAAJkAAJkAAJkAAJeBGgsu9Fh3kkQAIkQAIkQAIkQAIkEGACVPYDfPHYdBIgARIgARIgARIgARLwIkBl34sO80iABEiABEiABEiABEggwASo7Af44rHpJEACJEACJEACJEACJOBFgMq+Fx3mkQAJkAAJkAAJkAAJkECACVDZD/DFY9MzR6Bfv37SvHlz2bZtW7gRI0aMkNNOO002btwYTuMGCZAACZBA8Angvt60aVO56aabwp3ZuXOntGnTRvr37x9O4wYJ+JEAlX0/XhW2yfcE+vbtK3PnzpUhQ4YYbZ0zZ44MHz5cunTpIhUqVPB9+9lAEiABEiCB2Angvt6xY0d54IEHZPbs2caBt99+u7E9YMCA2CtiSRLIAIFCIZUMnJenJIHAE7jnnnvEutn36NFDqlatKtOnT5dChQoFvm/sAAmQAAmQQCSBPXv2SOPGjQUj+o899pi0aNFCHnnkEenTp09kQe6RgM8IUNn32QVhc4JDADf+Ro0ayZIlS6RIkSKycOFCqVatWnA6wJaSAAmQAAnEReD777+XE088UYoWLWqY9UyePDmu41mYBDJBgGY8maDOc2YFgcKF/9/O3eOkFkVhAN3xFYSKEZjQU0BjQ2FhSZgEQ6CzNBF7S52N0caSKRAIM4BAQvFyeXmxstBi76tZVCT8fOeuk1w+zj3wJ+bzeex2u5hOp4r+r5hVB0GAAIHPBQaDQUwmk/N534r+504eaZeAlf12zYfR/CCB5lLuaDSK4/EY6/U63t7eYjwe/6AjMFQCBAgQ+IpA8/us5o8YLi8vo9PpxHK5jG63+5W38FwC6QJW9tPJBf4WgWa//na7jdfX17i+vo7ZbHbey/lbjs9xECBAgMCHQLPA05znb25u4uXlJTabzfl3Wx/PcI9AOwWU/XbOi1G1XKBZ3Xl8fIzFYnHevvP8/Byr1cqJv+XzZngECBD4rkCzwNNcxX16eop+v3/+B7bmc6D5PHAj0GYB23jaPDvG1kqBw+EQw+Ewer1evL+/x8XFv+/M9/f3cXd3ZztPK2fNoAgQIPB9gf/bdx4eHuL29vb8RqfTKa6urmK/39vO831ar0wQUPYTkEUQIECAAAECBAgQqBCwjadCXSYBAgQIECBAgACBBAFlPwFZBAECBAgQIECAAIEKAWW/Ql0mAQIECBAgQIAAgQQBZT8BWQQBAgQIECBAgACBCgFlv0JdJgECBAgQIECAAIEEAWU/AVkEAQIECBAgQIAAgQoBZb9CXSYBAgQIECBAgACBBAFlPwFZBAECBAgQIECAAIEKAWW/Ql0mAQIECBAgQIAAgQQBZT8BWQQBAgQIECBAgACBCgFlv0JdJgECBAgQIECAAIEEAWU/AVkEAQIECBAgQIAAgQoBZb9CXSYBAgQIECBAgACBBAFlPwFZBAECBAgQIECAAIEKAWW/Ql0mAQIECBAgQIAAgQQBZT8BWQQBAgQIECBAgACBCgFlv0JdJgECBAgQIECAAIEEAWU/AVkEAQIECBAgQIAAgQoBZb9CXSYBAgQIECBAgACBBAFlPwFZBAECBAgQIECAAIEKAWW/Ql0mAQIECBAgQIAAgQQBZT8BWQQBAgQIECBAgACBCgFlv0JdJgECBAgQIECAAIEEgb8dR7mVaP36qwAAAABJRU5ErkJggg==)\n",
        "\n",
        "\n",
        "\n",
        "When to use:\n",
        "* K-means (Distance between 2 samples)\n",
        "* K-Nearest-Neighbour (Distance between 2 samples)\n",
        "* PCA\n",
        "* Artifical Neural Netwrok\n",
        "* Gradient Descent\n",
        "\n"
      ],
      "metadata": {
        "id": "NuUS7aMQ7cas"
      }
    },
    {
      "cell_type": "code",
      "source": [
        "! kaggle datasets download -d rakeshrau/social-network-ads"
      ],
      "metadata": {
        "id": "Owo9ZHeEsPxr"
      },
      "execution_count": null,
      "outputs": []
    },
    {
      "cell_type": "code",
      "source": [
        "!unzip /content/social-network-ads.zip"
      ],
      "metadata": {
        "id": "DZDFvp6CA0xz"
      },
      "execution_count": null,
      "outputs": []
    },
    {
      "cell_type": "code",
      "source": [
        "df = pd.read_csv(\"/content/Social_Network_Ads.csv\")\n",
        "df.head()"
      ],
      "metadata": {
        "id": "tPPl02_gBXCd"
      },
      "execution_count": null,
      "outputs": []
    },
    {
      "cell_type": "code",
      "source": [
        "df = df[[\"Age\", \"EstimatedSalary\", \"Purchased\"]]\n",
        "df.sample(5)"
      ],
      "metadata": {
        "id": "6nfnKg6xBhFW"
      },
      "execution_count": null,
      "outputs": []
    },
    {
      "cell_type": "markdown",
      "source": [
        "`train_test_split()` is recommended/important before standardization or normalization"
      ],
      "metadata": {
        "id": "clT2yzh5CEC0"
      }
    },
    {
      "cell_type": "code",
      "source": [
        "from sklearn.model_selection import train_test_split\n",
        "\n",
        "x_train, x_test, y_train, y_test = train_test_split(df.drop(\"Purchased\",1),\n",
        "                                                    df.Purchased,\n",
        "                                                    test_size=0.3,\n",
        "                                                    random_state=42)\n",
        "x_train.shape, x_test.shape"
      ],
      "metadata": {
        "id": "_DCLTZcEBoNe"
      },
      "execution_count": null,
      "outputs": []
    },
    {
      "cell_type": "markdown",
      "source": [
        "We will use scikit learn built-in function `StandardScaler` to perform standardization "
      ],
      "metadata": {
        "id": "CgJVVIDeDeZ2"
      }
    },
    {
      "cell_type": "code",
      "source": [
        "from sklearn.preprocessing import StandardScaler\n",
        "\n",
        "# make an object\n",
        "scaler = StandardScaler()\n",
        "\n",
        "# fit the scaler to the train set, it will learn the parameters\n",
        "scaler.fit(x_train) # fit implies calculating mean of the columns\n",
        "\n",
        "# transform train and test sets\n",
        "# we fit on the x_train but we will transform on both x_train and x_test\n",
        "x_train_scaled = scaler.transform(x_train)\n",
        "x_test_scaled = scaler.transform(x_test)"
      ],
      "metadata": {
        "id": "W--oATPjDpLS"
      },
      "execution_count": null,
      "outputs": []
    },
    {
      "cell_type": "code",
      "source": [
        "scaler.mean_"
      ],
      "metadata": {
        "id": "NmXy8YSUDpH3"
      },
      "execution_count": null,
      "outputs": []
    },
    {
      "cell_type": "code",
      "source": [
        "# convert x_train_scaled and x_test_scaled to pandas DataFrame\n",
        "x_train_scaled = pd.DataFrame(x_train_scaled, columns=x_train.columns)\n",
        "x_test_scaled = pd.DataFrame(x_test_scaled, columns=x_test.columns)"
      ],
      "metadata": {
        "id": "kMuuyO5gC-Ji"
      },
      "execution_count": null,
      "outputs": []
    },
    {
      "cell_type": "code",
      "source": [
        "x_train_scaled"
      ],
      "metadata": {
        "id": "UOGOdwhRFUZN"
      },
      "execution_count": null,
      "outputs": []
    },
    {
      "cell_type": "code",
      "source": [
        "np.round(x_train.describe(),1)"
      ],
      "metadata": {
        "id": "wrHM23VVGEBy"
      },
      "execution_count": null,
      "outputs": []
    },
    {
      "cell_type": "code",
      "source": [
        "np.round(x_train_scaled.describe(),1)"
      ],
      "metadata": {
        "id": "Lmz7rDXCFWQz"
      },
      "execution_count": null,
      "outputs": []
    },
    {
      "cell_type": "markdown",
      "source": [
        " **Effect of Scaling** "
      ],
      "metadata": {
        "id": "9JQqc_3mGNCT"
      }
    },
    {
      "cell_type": "code",
      "source": [
        "fig, (ax1, ax2) = plt.subplots(ncols=2, figsize=(12,7))\n",
        "\n",
        "ax1.scatter(x_train[\"Age\"], x_train[\"EstimatedSalary\"])\n",
        "ax1.set_title(\"Before Scaling\")\n",
        "ax2.scatter(x_train_scaled[\"Age\"], x_train_scaled[\"EstimatedSalary\"], color=\"red\")\n",
        "ax2.set_title(\"After Scaling\")"
      ],
      "metadata": {
        "id": "NeRJFdG-F_Th"
      },
      "execution_count": null,
      "outputs": []
    },
    {
      "cell_type": "markdown",
      "source": [
        "### ii). Normalization\n",
        "\n",
        "Normalization is a technique often applied as part of data prepration for machine learning. The goal of normalization is to change the values of numeric columns in the dataset to use a common scale, without distorting differences in the ranges of values or losing information"
      ],
      "metadata": {
        "id": "Itqz_d8cMn1m"
      }
    },
    {
      "cell_type": "markdown",
      "source": [
        "#### *Using MinMaxScaling\n",
        "\n",
        "> Xi` = (Xi - Xmin) / (Xmax - Xmin)\n",
        "\n",
        "* Distribution b/w [0, 1]\n",
        "\n",
        "![1_bbZowuePbbu93KjYbSZRNw.jpeg](data:image/jpeg;base64,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)\n"
      ],
      "metadata": {
        "id": "s40MiHcV-vsd"
      }
    },
    {
      "cell_type": "code",
      "source": [
        "! kaggle competitions download -c wine-m"
      ],
      "metadata": {
        "id": "SWomCu5zLYOn"
      },
      "execution_count": null,
      "outputs": []
    },
    {
      "cell_type": "code",
      "source": [
        "! unzip /content/wine-m.zip"
      ],
      "metadata": {
        "id": "KUZ4dRbEErcK"
      },
      "execution_count": null,
      "outputs": []
    },
    {
      "cell_type": "code",
      "source": [
        "df = pd.read_csv(\"/content/train.csv\")\n",
        "df.head(1)"
      ],
      "metadata": {
        "id": "LwyEco-HEwXi"
      },
      "execution_count": null,
      "outputs": []
    },
    {
      "cell_type": "code",
      "source": [
        "df = df[[\"id\", \"alcohol\", \"malic_acid\"]]\n",
        "df.head(3)"
      ],
      "metadata": {
        "id": "CW8YIdb-FEXa"
      },
      "execution_count": null,
      "outputs": []
    },
    {
      "cell_type": "code",
      "source": [
        "# It is important to train_test_split() your data before Scaling it\n",
        "from sklearn.model_selection import train_test_split\n",
        "\n",
        "x_train, x_test, y_train, y_test = train_test_split(df.drop(\"id\",1),\n",
        "                                                    df[\"id\"],\n",
        "                                                    test_size=0.1,\n",
        "                                                    random_state=42)\n",
        "x_train.shape, x_test.shape"
      ],
      "metadata": {
        "id": "ZoZvIIXYF8Nm"
      },
      "execution_count": null,
      "outputs": []
    },
    {
      "cell_type": "code",
      "source": [
        "from sklearn.preprocessing import MinMaxScaler\n",
        "\n",
        "scaler = MinMaxScaler()\n",
        "\n",
        "# fit the scaler to the training set, it will learn the parameters\n",
        "scaler.fit(x_test)\n",
        "\n",
        "# transform train and test sets\n",
        "x_train_scaled = scaler.transform(x_train)\n",
        "x_test_scaled = scaler.transform(x_test)"
      ],
      "metadata": {
        "id": "zoFl8v1oFMXG"
      },
      "execution_count": null,
      "outputs": []
    },
    {
      "cell_type": "code",
      "source": [
        "# convert x_traind_scaled & x_test_scaled to pandas DataFrame\n",
        "x_train_scaled = pd.DataFrame(x_train_scaled, columns=x_train.columns)\n",
        "x_test_scaled = pd.DataFrame(x_test_scaled, columns=x_test.columns)"
      ],
      "metadata": {
        "id": "IjVqpS62G1fV"
      },
      "execution_count": null,
      "outputs": []
    },
    {
      "cell_type": "code",
      "source": [
        "# min=0 and max=1\n",
        "np.round(x_train_scaled.describe())"
      ],
      "metadata": {
        "id": "6lvOByguHRBV"
      },
      "execution_count": null,
      "outputs": []
    },
    {
      "cell_type": "code",
      "source": [
        "fig, (ax1, ax2) = plt.subplots(ncols=2, figsize=(12,5))\n",
        "\n",
        "ax1.scatter(x_train[\"alcohol\"], x_train[\"malic_acid\"], c=y_train)\n",
        "ax1.set_title(\"Before Scaling\")\n",
        "ax2.scatter(x_train_scaled[\"alcohol\"], x_train_scaled[\"malic_acid\"], c=y_train)\n",
        "ax2.set_title(\"After Scaling\")"
      ],
      "metadata": {
        "id": "vMRMgPmLHg1C"
      },
      "execution_count": null,
      "outputs": []
    },
    {
      "cell_type": "markdown",
      "source": [
        "#### *Using MaxAbsScaling\n",
        "\n",
        "> Xi` = Xi / |Xmax|\n",
        "\n",
        "* sklearn class\n",
        "* Used when data is sparsed (having alot of 0's)"
      ],
      "metadata": {
        "id": "nIhCCsT-LE64"
      }
    },
    {
      "cell_type": "markdown",
      "source": [
        "#### *Using Roboust Scaling\n",
        "\n",
        "> Xi` = (Xi - Xmedian) / IQR\n",
        "\n",
        "* sklearn class\n",
        "* Roboust to outliers\n"
      ],
      "metadata": {
        "id": "7T68ztfQLyRi"
      }
    },
    {
      "cell_type": "markdown",
      "source": [
        "### Normalization vs Standardization\n",
        "\n",
        "First of all check...\n",
        "\n",
        "\n",
        "Is feature scaling required?\n",
        "\n",
        "is not required in case of Decision Tree\n",
        "\n",
        "Mostly Standardization is used. Gives better results\n",
        "\n",
        "Normalization is used with Images where values of pixel is known 0-255"
      ],
      "metadata": {
        "id": "QKllYPQGMZVQ"
      }
    },
    {
      "cell_type": "markdown",
      "source": [
        "## 5). Categorical Data\n",
        "\n",
        "Two Types:\n",
        "* Nominal (No Order)\n",
        "\n",
        "e.g Names ali, Hasnat\n",
        "* Ordinal (Order)\n",
        "\n",
        "e.g Grags A, B, C, F"
      ],
      "metadata": {
        "id": "z4AyX4P6Pbmb"
      }
    },
    {
      "cell_type": "markdown",
      "source": [
        "### i). Ordinal Data"
      ],
      "metadata": {
        "id": "56vMX_W4jav-"
      }
    },
    {
      "cell_type": "markdown",
      "source": [
        "#### Using OrdinalEncoding"
      ],
      "metadata": {
        "id": "sFnDDDeojrXT"
      }
    },
    {
      "cell_type": "code",
      "source": [
        "! git clone https://github.com/campusx-official/100-days-of-machine-learning.git"
      ],
      "metadata": {
        "id": "lClgqI9Ljaf6"
      },
      "execution_count": null,
      "outputs": []
    },
    {
      "cell_type": "code",
      "source": [
        "df = pd.read_csv(\"/content/100-days-of-machine-learning/day26-ordinal-encoding/customer.csv\")\n",
        "df.head()"
      ],
      "metadata": {
        "id": "XitE5Sgv2EDp"
      },
      "execution_count": null,
      "outputs": []
    },
    {
      "cell_type": "code",
      "source": [
        "from sklearn.model_selection import train_test_split\n",
        "x_train, x_test, y_train, y_test = train_test_split(df.iloc[:, 0:2],\n",
        "                                                    df.iloc[:,-1],\n",
        "                                                    test_size=0.2,\n",
        "                                                    random_state=42)\n",
        "x_train.shape"
      ],
      "metadata": {
        "id": "-T1U5_JAUEVb"
      },
      "execution_count": null,
      "outputs": []
    },
    {
      "cell_type": "code",
      "source": [
        ""
      ],
      "metadata": {
        "id": "Pd3WYW_L1ZZW"
      },
      "execution_count": null,
      "outputs": []
    },
    {
      "cell_type": "code",
      "source": [
        "from sklearn.preprocessing import OrdinalEncoder\n",
        "\n",
        "\n",
        "oe = OrdinalEncoder(categories=[[\"A\",\"B\",\"C\",\"F\"]])\n",
        "# fit the encoder to training set\n",
        "oe.fit(x_train)\n",
        "\n",
        "# transform train and test set\n",
        "x_train_encoded = oe.transform(x_train)\n",
        "x_test_encoded = oe.transform(x_test)"
      ],
      "metadata": {
        "id": "QGLZc0sHzu9j"
      },
      "execution_count": null,
      "outputs": []
    },
    {
      "cell_type": "code",
      "source": [
        "\n"
      ],
      "metadata": {
        "id": "Rf5WX_Zf0VRA"
      },
      "execution_count": null,
      "outputs": []
    }
  ]
}